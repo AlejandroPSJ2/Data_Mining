{
  "nbformat": 4,
  "nbformat_minor": 0,
  "metadata": {
    "colab": {
      "name": "Cla_example.ipynb",
      "provenance": [],
      "collapsed_sections": [],
      "authorship_tag": "ABX9TyN4cSso5qlCdfdYYfmZF8pt",
      "include_colab_link": true
    },
    "kernelspec": {
      "name": "python3",
      "display_name": "Python 3"
    }
  },
  "cells": [
    {
      "cell_type": "markdown",
      "metadata": {
        "id": "view-in-github",
        "colab_type": "text"
      },
      "source": [
        "<a href=\"https://colab.research.google.com/github/AlejandroPSJ2/Data_Mining/blob/main/Cla_example.ipynb\" target=\"_parent\"><img src=\"https://colab.research.google.com/assets/colab-badge.svg\" alt=\"Open In Colab\"/></a>"
      ]
    },
    {
      "cell_type": "code",
      "metadata": {
        "id": "x00-uS9ooBo4"
      },
      "source": [
        "import pandas as pd\r\n",
        "import statsmodels.api as sm\r\n",
        "url = 'https://raw.githubusercontent.com/AlejandroPSJ2/Data_Mining/main/cla_example.csv'\r\n",
        "df = pd.read_csv(url)"
      ],
      "execution_count": null,
      "outputs": []
    },
    {
      "cell_type": "code",
      "metadata": {
        "colab": {
          "base_uri": "https://localhost:8080/",
          "height": 204
        },
        "id": "4_PpSl34oGI2",
        "outputId": "a20af3b6-3de5-4583-c319-3e1c6b17b27b"
      },
      "source": [
        "df.head()"
      ],
      "execution_count": null,
      "outputs": [
        {
          "output_type": "execute_result",
          "data": {
            "text/html": [
              "<div>\n",
              "<style scoped>\n",
              "    .dataframe tbody tr th:only-of-type {\n",
              "        vertical-align: middle;\n",
              "    }\n",
              "\n",
              "    .dataframe tbody tr th {\n",
              "        vertical-align: top;\n",
              "    }\n",
              "\n",
              "    .dataframe thead th {\n",
              "        text-align: right;\n",
              "    }\n",
              "</style>\n",
              "<table border=\"1\" class=\"dataframe\">\n",
              "  <thead>\n",
              "    <tr style=\"text-align: right;\">\n",
              "      <th></th>\n",
              "      <th>N_pregnant</th>\n",
              "      <th>Plasma</th>\n",
              "      <th>Diastolic_pressure</th>\n",
              "      <th>Triceps_thickness</th>\n",
              "      <th>Serum_insulin</th>\n",
              "      <th>BMI</th>\n",
              "      <th>Diabetes_function</th>\n",
              "      <th>Age</th>\n",
              "      <th>Diabetes_future</th>\n",
              "    </tr>\n",
              "  </thead>\n",
              "  <tbody>\n",
              "    <tr>\n",
              "      <th>0</th>\n",
              "      <td>6</td>\n",
              "      <td>148</td>\n",
              "      <td>72</td>\n",
              "      <td>35</td>\n",
              "      <td>0</td>\n",
              "      <td>33.6</td>\n",
              "      <td>0.627</td>\n",
              "      <td>50</td>\n",
              "      <td>1</td>\n",
              "    </tr>\n",
              "    <tr>\n",
              "      <th>1</th>\n",
              "      <td>1</td>\n",
              "      <td>85</td>\n",
              "      <td>66</td>\n",
              "      <td>29</td>\n",
              "      <td>0</td>\n",
              "      <td>26.6</td>\n",
              "      <td>0.351</td>\n",
              "      <td>31</td>\n",
              "      <td>0</td>\n",
              "    </tr>\n",
              "    <tr>\n",
              "      <th>2</th>\n",
              "      <td>8</td>\n",
              "      <td>183</td>\n",
              "      <td>64</td>\n",
              "      <td>0</td>\n",
              "      <td>0</td>\n",
              "      <td>23.3</td>\n",
              "      <td>0.672</td>\n",
              "      <td>32</td>\n",
              "      <td>1</td>\n",
              "    </tr>\n",
              "    <tr>\n",
              "      <th>3</th>\n",
              "      <td>1</td>\n",
              "      <td>89</td>\n",
              "      <td>66</td>\n",
              "      <td>23</td>\n",
              "      <td>94</td>\n",
              "      <td>28.1</td>\n",
              "      <td>0.167</td>\n",
              "      <td>21</td>\n",
              "      <td>0</td>\n",
              "    </tr>\n",
              "    <tr>\n",
              "      <th>4</th>\n",
              "      <td>0</td>\n",
              "      <td>137</td>\n",
              "      <td>40</td>\n",
              "      <td>35</td>\n",
              "      <td>168</td>\n",
              "      <td>43.1</td>\n",
              "      <td>2.288</td>\n",
              "      <td>33</td>\n",
              "      <td>1</td>\n",
              "    </tr>\n",
              "  </tbody>\n",
              "</table>\n",
              "</div>"
            ],
            "text/plain": [
              "   N_pregnant  Plasma  ...  Age  Diabetes_future\n",
              "0           6     148  ...   50                1\n",
              "1           1      85  ...   31                0\n",
              "2           8     183  ...   32                1\n",
              "3           1      89  ...   21                0\n",
              "4           0     137  ...   33                1\n",
              "\n",
              "[5 rows x 9 columns]"
            ]
          },
          "metadata": {
            "tags": []
          },
          "execution_count": 28
        }
      ]
    },
    {
      "cell_type": "code",
      "metadata": {
        "id": "GSZpf7qNoIOb"
      },
      "source": [
        "dfx = df.copy()\r\n",
        "dfx = dfx.drop(columns='Diabetes_future',axis=1)\r\n",
        "dfx.head()\r\n",
        "\r\n",
        "Y = df['Diabetes_future']\r\n",
        "X = dfx\r\n",
        "X = sm.add_constant(X)"
      ],
      "execution_count": null,
      "outputs": []
    },
    {
      "cell_type": "code",
      "metadata": {
        "colab": {
          "base_uri": "https://localhost:8080/"
        },
        "id": "Jgv_uSi6oYLV",
        "outputId": "e10eca85-2ae3-49f7-c0e3-06d5d3039a0e"
      },
      "source": [
        "mod = sm.Logit(Y,X)\r\n",
        "res = mod.fit()"
      ],
      "execution_count": null,
      "outputs": [
        {
          "output_type": "stream",
          "text": [
            "Optimization terminated successfully.\n",
            "         Current function value: 0.470993\n",
            "         Iterations 6\n"
          ],
          "name": "stdout"
        }
      ]
    },
    {
      "cell_type": "code",
      "metadata": {
        "colab": {
          "base_uri": "https://localhost:8080/"
        },
        "id": "L6JLLkSoocHl",
        "outputId": "12640d2d-a3e9-4504-8def-e09baaa36892"
      },
      "source": [
        "print(res.summary())"
      ],
      "execution_count": null,
      "outputs": [
        {
          "output_type": "stream",
          "text": [
            "                           Logit Regression Results                           \n",
            "==============================================================================\n",
            "Dep. Variable:        Diabetes_future   No. Observations:                  768\n",
            "Model:                          Logit   Df Residuals:                      759\n",
            "Method:                           MLE   Df Model:                            8\n",
            "Date:                Tue, 19 Jan 2021   Pseudo R-squ.:                  0.2718\n",
            "Time:                        07:59:28   Log-Likelihood:                -361.72\n",
            "converged:                       True   LL-Null:                       -496.74\n",
            "Covariance Type:            nonrobust   LLR p-value:                 9.652e-54\n",
            "======================================================================================\n",
            "                         coef    std err          z      P>|z|      [0.025      0.975]\n",
            "--------------------------------------------------------------------------------------\n",
            "const                 -8.4047      0.717    -11.728      0.000      -9.809      -7.000\n",
            "N_pregnant             0.1232      0.032      3.840      0.000       0.060       0.186\n",
            "Plasma                 0.0352      0.004      9.481      0.000       0.028       0.042\n",
            "Diastolic_pressure    -0.0133      0.005     -2.540      0.011      -0.024      -0.003\n",
            "Triceps_thickness      0.0006      0.007      0.090      0.929      -0.013       0.014\n",
            "Serum_insulin         -0.0012      0.001     -1.322      0.186      -0.003       0.001\n",
            "BMI                    0.0897      0.015      5.945      0.000       0.060       0.119\n",
            "Diabetes_function      0.9452      0.299      3.160      0.002       0.359       1.531\n",
            "Age                    0.0149      0.009      1.593      0.111      -0.003       0.033\n",
            "======================================================================================\n"
          ],
          "name": "stdout"
        }
      ]
    }
  ]
}
