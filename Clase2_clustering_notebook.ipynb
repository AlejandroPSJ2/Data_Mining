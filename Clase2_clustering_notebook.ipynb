{
  "nbformat": 4,
  "nbformat_minor": 0,
  "metadata": {
    "colab": {
      "name": "Clase2_clustering_notebook.ipynb",
      "provenance": [],
      "collapsed_sections": [],
      "authorship_tag": "ABX9TyNrgpxHr+AVt2Sc1bLic6ZO",
      "include_colab_link": true
    },
    "kernelspec": {
      "name": "python3",
      "display_name": "Python 3"
    }
  },
  "cells": [
    {
      "cell_type": "markdown",
      "metadata": {
        "id": "view-in-github",
        "colab_type": "text"
      },
      "source": [
        "<a href=\"https://colab.research.google.com/github/AlejandroPSJ2/Data_Mining/blob/clustering/Clase2_clustering_notebook.ipynb\" target=\"_parent\"><img src=\"https://colab.research.google.com/assets/colab-badge.svg\" alt=\"Open In Colab\"/></a>"
      ]
    },
    {
      "cell_type": "code",
      "metadata": {
        "id": "fRT4FgHCGEOC"
      },
      "source": [
        "#LIBRERIAS BASICAS\r\n",
        "\r\n",
        "from google.colab import files\r\n",
        "import pandas as pd\r\n",
        "from sklearn.cluster import KMeans\r\n",
        "import matplotlib.pyplot as plt\r\n",
        "from sklearn.metrics import silhouette_score\r\n",
        "%matplotlib inline"
      ],
      "execution_count": 1,
      "outputs": []
    },
    {
      "cell_type": "code",
      "metadata": {
        "id": "jpe6m9g9P7Za"
      },
      "source": [
        "# FUNCIONES PARA CLUSTERING\r\n",
        "\r\n",
        "def normalize(df):\r\n",
        "    dfb = df.copy()\r\n",
        "    for x in df.columns:\r\n",
        "        dfb[x] = (df[x]-df[x].min())/(df[x].max()-df[x].min())\r\n",
        "    return dfb   \r\n",
        "    \r\n",
        "def centroides(a,b):\r\n",
        "    res = pd.DataFrame(data=b)\r\n",
        "    i=0\r\n",
        "    for x in a.columns:\r\n",
        "        res.rename(columns={i:x},inplace=True)\r\n",
        "        i = i+1\r\n",
        "    res.reset_index(inplace=True)\r\n",
        "    res.rename(columns={'index':'cluster'},inplace=True)\r\n",
        "    return res \r\n",
        "    \r\n",
        "def clusteres(a,b): \r\n",
        "    lab = pd.DataFrame(data=b)\r\n",
        "    ax = a.join(lab)\r\n",
        "    ax.rename(columns={0:'cluster'},inplace=True)  \r\n",
        "    return ax\r\n",
        "\r\n",
        "def elbow(X):\r\n",
        "    sum_of_squared_distances = []\r\n",
        "    K = range(1,15)\r\n",
        "    for k in K:\r\n",
        "        k_means = KMeans(n_clusters=k)\r\n",
        "        model = k_means.fit(X)\r\n",
        "        sum_of_squared_distances.append(k_means.inertia_)\r\n",
        "\r\n",
        "    plt.plot(K, sum_of_squared_distances, 'bx-')\r\n",
        "    plt.xlabel('k')\r\n",
        "    plt.ylabel('sum_of_squared_distances')\r\n",
        "    plt.title('elbow method for optimal k')\r\n",
        "    plt.show()\r\n",
        "    return sum_of_squared_distances\r\n",
        "\r\n",
        "def silhouette(X):\r\n",
        "    sil = []\r\n",
        "    K = range(2, 15)\r\n",
        "    for k in K:\r\n",
        "      kmeans = KMeans(n_clusters = k).fit(X)\r\n",
        "      labels = kmeans.labels_\r\n",
        "      sil.append(silhouette_score(X, labels, metric = 'euclidean'))\r\n",
        "\r\n",
        "    plt.plot(K, sil, 'bx-')\r\n",
        "    plt.xlabel('k')\r\n",
        "    plt.ylabel('silhouette score')\r\n",
        "    plt.title('silhouette method for optimal k')\r\n",
        "    plt.show()\r\n",
        "    return sil"
      ],
      "execution_count": 2,
      "outputs": []
    },
    {
      "cell_type": "code",
      "metadata": {
        "colab": {
          "base_uri": "https://localhost:8080/",
          "height": 202
        },
        "id": "zejVMMU2ajIu",
        "outputId": "b6f8638f-2fa3-4b85-b99c-f1cdc5a58738"
      },
      "source": [
        "#DATA LOADING & PREVIEW\r\n",
        "\r\n",
        "url = 'https://raw.githubusercontent.com/AlejandroPSJ2/Data_Mining/main/clustering_categorical_clean.csv'\r\n",
        "df = pd.read_csv(url,sep=';')\r\n",
        "df.head()"
      ],
      "execution_count": 3,
      "outputs": [
        {
          "output_type": "execute_result",
          "data": {
            "text/html": [
              "<div>\n",
              "<style scoped>\n",
              "    .dataframe tbody tr th:only-of-type {\n",
              "        vertical-align: middle;\n",
              "    }\n",
              "\n",
              "    .dataframe tbody tr th {\n",
              "        vertical-align: top;\n",
              "    }\n",
              "\n",
              "    .dataframe thead th {\n",
              "        text-align: right;\n",
              "    }\n",
              "</style>\n",
              "<table border=\"1\" class=\"dataframe\">\n",
              "  <thead>\n",
              "    <tr style=\"text-align: right;\">\n",
              "      <th></th>\n",
              "      <th>id</th>\n",
              "      <th>age</th>\n",
              "      <th>fnlwgt</th>\n",
              "      <th>education-num</th>\n",
              "      <th>race</th>\n",
              "      <th>sex</th>\n",
              "      <th>capital-gain</th>\n",
              "      <th>capital-loss</th>\n",
              "      <th>hours-per-week</th>\n",
              "      <th>native-country</th>\n",
              "    </tr>\n",
              "  </thead>\n",
              "  <tbody>\n",
              "    <tr>\n",
              "      <th>0</th>\n",
              "      <td>236</td>\n",
              "      <td>42</td>\n",
              "      <td>303044</td>\n",
              "      <td>9</td>\n",
              "      <td>Other</td>\n",
              "      <td>Male</td>\n",
              "      <td>0</td>\n",
              "      <td>0</td>\n",
              "      <td>40</td>\n",
              "      <td>Other</td>\n",
              "    </tr>\n",
              "    <tr>\n",
              "      <th>1</th>\n",
              "      <td>1820</td>\n",
              "      <td>40</td>\n",
              "      <td>121956</td>\n",
              "      <td>13</td>\n",
              "      <td>Other</td>\n",
              "      <td>Male</td>\n",
              "      <td>13550</td>\n",
              "      <td>0</td>\n",
              "      <td>40</td>\n",
              "      <td>Other</td>\n",
              "    </tr>\n",
              "    <tr>\n",
              "      <th>2</th>\n",
              "      <td>3945</td>\n",
              "      <td>37</td>\n",
              "      <td>191342</td>\n",
              "      <td>2</td>\n",
              "      <td>Other</td>\n",
              "      <td>Male</td>\n",
              "      <td>0</td>\n",
              "      <td>0</td>\n",
              "      <td>40</td>\n",
              "      <td>Other</td>\n",
              "    </tr>\n",
              "    <tr>\n",
              "      <th>3</th>\n",
              "      <td>4380</td>\n",
              "      <td>25</td>\n",
              "      <td>228608</td>\n",
              "      <td>10</td>\n",
              "      <td>Other</td>\n",
              "      <td>Female</td>\n",
              "      <td>0</td>\n",
              "      <td>0</td>\n",
              "      <td>40</td>\n",
              "      <td>Other</td>\n",
              "    </tr>\n",
              "    <tr>\n",
              "      <th>4</th>\n",
              "      <td>104</td>\n",
              "      <td>56</td>\n",
              "      <td>335605</td>\n",
              "      <td>9</td>\n",
              "      <td>White</td>\n",
              "      <td>Male</td>\n",
              "      <td>0</td>\n",
              "      <td>1887</td>\n",
              "      <td>50</td>\n",
              "      <td>Other</td>\n",
              "    </tr>\n",
              "  </tbody>\n",
              "</table>\n",
              "</div>"
            ],
            "text/plain": [
              "     id  age  fnlwgt  ...  capital-loss hours-per-week native-country\n",
              "0   236   42  303044  ...             0             40          Other\n",
              "1  1820   40  121956  ...             0             40          Other\n",
              "2  3945   37  191342  ...             0             40          Other\n",
              "3  4380   25  228608  ...             0             40          Other\n",
              "4   104   56  335605  ...          1887             50          Other\n",
              "\n",
              "[5 rows x 10 columns]"
            ]
          },
          "metadata": {
            "tags": []
          },
          "execution_count": 3
        }
      ]
    },
    {
      "cell_type": "code",
      "metadata": {
        "id": "M4trkomhem8L"
      },
      "source": [
        "#DATA PREPARATION (VERY IMPORTANT TO DIFFERENTIATE \"X\" AND \"DF\")\r\n",
        "\r\n",
        "X = df.drop(columns='id')\r\n",
        "#X = pd.get_dummies(X)               #ONE HOT ENCODING SI HAY CATEGORICAS\r\n",
        "X = normalize(X)"
      ],
      "execution_count": 7,
      "outputs": []
    },
    {
      "cell_type": "code",
      "metadata": {
        "colab": {
          "base_uri": "https://localhost:8080/",
          "height": 628
        },
        "id": "7imvLc4ZZVJJ",
        "outputId": "26f03e48-dc76-432b-d627-9a1e8661acf7"
      },
      "source": [
        "# OPTIMAL NUMBER \"K\" OF CLUSTERS\r\n",
        "\r\n",
        "print(elbow(X))\r\n",
        "print(silhouette(X))"
      ],
      "execution_count": 9,
      "outputs": [
        {
          "output_type": "display_data",
          "data": {
            "image/png": "[encoded data removed]",
            "text/plain": [
              "<Figure size 432x288 with 1 Axes>"
            ]
          },
          "metadata": {
            "tags": [],
            "needs_background": "light"
          }
        },
        {
          "output_type": "stream",
          "text": [
            "[4828.679942931379, 2649.26672544254, 1989.0418139763974, 1410.7073791875707, 1135.5509327085401, 944.2632955464717, 804.7863166512768, 718.1647230802607, 655.2373420274961, 568.8583250137152, 507.9203437382005, 473.04552636214066, 427.30750623849775, 392.4474350548269]\n"
          ],
          "name": "stdout"
        },
        {
          "output_type": "display_data",
          "data": {
            "image/png": "[encoded data removed]",
            "text/plain": [
              "<Figure size 432x288 with 1 Axes>"
            ]
          },
          "metadata": {
            "tags": [],
            "needs_background": "light"
          }
        },
        {
          "output_type": "stream",
          "text": [
            "[0.5325266310986279, 0.5726610638264086, 0.6174671591781556, 0.649064361363735, 0.668226436997622, 0.6792685463451184, 0.5975040061153848, 0.6086676357426518, 0.6177859516973646, 0.4580485577200057, 0.46402918298044865, 0.47873884355484725, 0.48356754920145917]\n"
          ],
          "name": "stdout"
        }
      ]
    },
    {
      "cell_type": "code",
      "metadata": {
        "id": "oxsYkM95GJQP"
      },
      "source": [
        "# ALGORITHM FIT\r\n",
        "\r\n",
        "kmeans = KMeans(n_clusters=5, random_state=44).fit(X)"
      ],
      "execution_count": 10,
      "outputs": []
    },
    {
      "cell_type": "code",
      "metadata": {
        "colab": {
          "base_uri": "https://localhost:8080/"
        },
        "id": "48VQswWWBeVB",
        "outputId": "d2c24e0b-59b2-4007-e60f-fc047250fc9d"
      },
      "source": [
        "# CLUSTER CENTROIDS   ### SE PUEDE OBVIAR\r\n",
        "\r\n",
        "print('Centroides optimos de clusteres')\r\n",
        "print(centroides(X,kmeans.cluster_centers_))"
      ],
      "execution_count": 11,
      "outputs": [
        {
          "output_type": "stream",
          "text": [
            "Centroides optimos de clusteres\n",
            "   cluster       age  ...  native-country_Other  native-country_USA\n",
            "0        0  0.278315  ...          1.000000e+00       -4.218847e-15\n",
            "1        1  0.306101  ...          3.830269e-15        1.000000e+00\n",
            "2        2  0.275500  ...         -1.457168e-15        1.000000e+00\n",
            "3        3  0.294477  ...          2.498002e-16        1.000000e+00\n",
            "4        4  0.269094  ...          1.000000e+00        1.443290e-15\n",
            "\n",
            "[5 rows x 14 columns]\n"
          ],
          "name": "stdout"
        }
      ]
    },
    {
      "cell_type": "code",
      "metadata": {
        "colab": {
          "base_uri": "https://localhost:8080/"
        },
        "id": "mrylgtFsN0NT",
        "outputId": "1b06fad1-8008-4970-a487-b31694248e4c"
      },
      "source": [
        "# CLUSTER RESULTS    ### SE PUEDE OBVIAR\r\n",
        "\r\n",
        "print('Asignacion de clusteres segun cada observacion')\r\n",
        "print(clusteres(df,kmeans.labels_).head())"
      ],
      "execution_count": 12,
      "outputs": [
        {
          "output_type": "stream",
          "text": [
            "Asignacion de clusteres segun cada observacion\n",
            "     id  age  fnlwgt  ...  hours-per-week native-country cluster\n",
            "0   236   42  303044  ...              40          Other       0\n",
            "1  1820   40  121956  ...              40          Other       0\n",
            "2  3945   37  191342  ...              40          Other       0\n",
            "3  4380   25  228608  ...              40          Other       4\n",
            "4   104   56  335605  ...              50          Other       0\n",
            "\n",
            "[5 rows x 11 columns]\n"
          ],
          "name": "stdout"
        }
      ]
    },
    {
      "cell_type": "code",
      "metadata": {
        "colab": {
          "base_uri": "https://localhost:8080/",
          "height": 17
        },
        "id": "Vh5cXlPfbOLa",
        "outputId": "d6dbb519-f432-4a52-da7b-5125b769863d"
      },
      "source": [
        "# EXPORT RESULTS\r\n",
        "centroides(X,kmeans.cluster_centers_).to_csv('centroides.csv') \r\n",
        "files.download('centroides.csv')\r\n",
        "\r\n",
        "clusteres(df,kmeans.labels_).to_csv('resultados.csv') \r\n",
        "files.download('resultados.csv')"
      ],
      "execution_count": null,
      "outputs": [
        {
          "output_type": "display_data",
          "data": {
            "application/javascript": [
              "\n",
              "    async function download(id, filename, size) {\n",
              "      if (!google.colab.kernel.accessAllowed) {\n",
              "        return;\n",
              "      }\n",
              "      const div = document.createElement('div');\n",
              "      const label = document.createElement('label');\n",
              "      label.textContent = `Downloading \"${filename}\": `;\n",
              "      div.appendChild(label);\n",
              "      const progress = document.createElement('progress');\n",
              "      progress.max = size;\n",
              "      div.appendChild(progress);\n",
              "      document.body.appendChild(div);\n",
              "\n",
              "      const buffers = [];\n",
              "      let downloaded = 0;\n",
              "\n",
              "      const channel = await google.colab.kernel.comms.open(id);\n",
              "      // Send a message to notify the kernel that we're ready.\n",
              "      channel.send({})\n",
              "\n",
              "      for await (const message of channel.messages) {\n",
              "        // Send a message to notify the kernel that we're ready.\n",
              "        channel.send({})\n",
              "        if (message.buffers) {\n",
              "          for (const buffer of message.buffers) {\n",
              "            buffers.push(buffer);\n",
              "            downloaded += buffer.byteLength;\n",
              "            progress.value = downloaded;\n",
              "          }\n",
              "        }\n",
              "      }\n",
              "      const blob = new Blob(buffers, {type: 'application/binary'});\n",
              "      const a = document.createElement('a');\n",
              "      a.href = window.URL.createObjectURL(blob);\n",
              "      a.download = filename;\n",
              "      div.appendChild(a);\n",
              "      a.click();\n",
              "      div.remove();\n",
              "    }\n",
              "  "
            ],
            "text/plain": [
              "<IPython.core.display.Javascript object>"
            ]
          },
          "metadata": {
            "tags": []
          }
        },
        {
          "output_type": "display_data",
          "data": {
            "application/javascript": [
              "download(\"download_9a5cd16f-270b-4726-843f-8bc679de129a\", \"centroides.csv\", 418)"
            ],
            "text/plain": [
              "<IPython.core.display.Javascript object>"
            ]
          },
          "metadata": {
            "tags": []
          }
        },
        {
          "output_type": "display_data",
          "data": {
            "application/javascript": [
              "\n",
              "    async function download(id, filename, size) {\n",
              "      if (!google.colab.kernel.accessAllowed) {\n",
              "        return;\n",
              "      }\n",
              "      const div = document.createElement('div');\n",
              "      const label = document.createElement('label');\n",
              "      label.textContent = `Downloading \"${filename}\": `;\n",
              "      div.appendChild(label);\n",
              "      const progress = document.createElement('progress');\n",
              "      progress.max = size;\n",
              "      div.appendChild(progress);\n",
              "      document.body.appendChild(div);\n",
              "\n",
              "      const buffers = [];\n",
              "      let downloaded = 0;\n",
              "\n",
              "      const channel = await google.colab.kernel.comms.open(id);\n",
              "      // Send a message to notify the kernel that we're ready.\n",
              "      channel.send({})\n",
              "\n",
              "      for await (const message of channel.messages) {\n",
              "        // Send a message to notify the kernel that we're ready.\n",
              "        channel.send({})\n",
              "        if (message.buffers) {\n",
              "          for (const buffer of message.buffers) {\n",
              "            buffers.push(buffer);\n",
              "            downloaded += buffer.byteLength;\n",
              "            progress.value = downloaded;\n",
              "          }\n",
              "        }\n",
              "      }\n",
              "      const blob = new Blob(buffers, {type: 'application/binary'});\n",
              "      const a = document.createElement('a');\n",
              "      a.href = window.URL.createObjectURL(blob);\n",
              "      a.download = filename;\n",
              "      div.appendChild(a);\n",
              "      a.click();\n",
              "      div.remove();\n",
              "    }\n",
              "  "
            ],
            "text/plain": [
              "<IPython.core.display.Javascript object>"
            ]
          },
          "metadata": {
            "tags": []
          }
        },
        {
          "output_type": "display_data",
          "data": {
            "application/javascript": [
              "download(\"download_115914a4-a2ed-46f0-b53b-a2846edc6c7a\", \"resultados.csv\", 638)"
            ],
            "text/plain": [
              "<IPython.core.display.Javascript object>"
            ]
          },
          "metadata": {
            "tags": []
          }
        }
      ]
    },
    {
      "cell_type": "code",
      "metadata": {
        "id": "TOYgtFPSd3Gf"
      },
      "source": [
        "#from google.colab import drive\r\n",
        "#drive.mount(\"/content/gdrive\")\r\n"
      ],
      "execution_count": null,
      "outputs": []
    }
  ]
}