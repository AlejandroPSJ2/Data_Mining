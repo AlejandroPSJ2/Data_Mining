{
  "nbformat": 4,
  "nbformat_minor": 0,
  "metadata": {
    "colab": {
      "name": "Clustering_notebook.ipynb",
      "provenance": [],
      "collapsed_sections": [],
      "authorship_tag": "ABX9TyOZYPj+oFi2uWp/65UxEyTD",
      "include_colab_link": true
    },
    "kernelspec": {
      "name": "python3",
      "display_name": "Python 3"
    }
  },
  "cells": [
    {
      "cell_type": "markdown",
      "metadata": {
        "id": "view-in-github",
        "colab_type": "text"
      },
      "source": [
        "<a href=\"https://colab.research.google.com/github/AlejandroPSJ2/Data_Mining/blob/clustering/Clase2_notebook.ipynb\" target=\"_parent\"><img src=\"https://colab.research.google.com/assets/colab-badge.svg\" alt=\"Open In Colab\"/></a>"
      ]
    },
    {
      "cell_type": "code",
      "metadata": {
        "id": "fRT4FgHCGEOC"
      },
      "source": [
        "#LIBRERIAS BASICAS    # NO MODIFICAR\r\n",
        "\r\n",
        "from google.colab import files\r\n",
        "import pandas as pd\r\n",
        "from sklearn.cluster import KMeans\r\n",
        "import matplotlib.pyplot as plt\r\n",
        "from sklearn.metrics import silhouette_score\r\n",
        "%matplotlib inline"
      ],
      "execution_count": null,
      "outputs": []
    },
    {
      "cell_type": "code",
      "metadata": {
        "id": "jpe6m9g9P7Za"
      },
      "source": [
        "# FUNCIONES PARA CLUSTERING       # NO MODIFICAR\r\n",
        "\r\n",
        "def normalize(df):\r\n",
        "    dfb = df.copy()\r\n",
        "    for x in df.columns:\r\n",
        "        dfb[x] = (df[x]-df[x].min())/(df[x].max()-df[x].min())\r\n",
        "    return dfb   \r\n",
        "    \r\n",
        "def centroides(a,b):\r\n",
        "    res = pd.DataFrame(data=b)\r\n",
        "    i=0\r\n",
        "    for x in a.columns:\r\n",
        "        res.rename(columns={i:x},inplace=True)\r\n",
        "        i = i+1\r\n",
        "    res.reset_index(inplace=True)\r\n",
        "    res.rename(columns={'index':'cluster'},inplace=True)\r\n",
        "    return res \r\n",
        "    \r\n",
        "def clusteres(a,b): \r\n",
        "    lab = pd.DataFrame(data=b)\r\n",
        "    ax = a.join(lab)\r\n",
        "    ax.rename(columns={0:'cluster'},inplace=True)  \r\n",
        "    return ax\r\n",
        "\r\n",
        "def elbow(X):\r\n",
        "    sum_of_squared_distances = []\r\n",
        "    K = range(1,15)\r\n",
        "    for k in K:\r\n",
        "        k_means = KMeans(n_clusters=k)\r\n",
        "        model = k_means.fit(X)\r\n",
        "        sum_of_squared_distances.append(k_means.inertia_)\r\n",
        "\r\n",
        "    plt.plot(K, sum_of_squared_distances, 'bx-')\r\n",
        "    plt.xlabel('k')\r\n",
        "    plt.ylabel('sum_of_squared_distances')\r\n",
        "    plt.title('elbow method for optimal k')\r\n",
        "    plt.show()\r\n",
        "    return sum_of_squared_distances\r\n",
        "\r\n",
        "def silhouette(X):\r\n",
        "    sil = []\r\n",
        "    K = range(2, 15)\r\n",
        "    for k in K:\r\n",
        "      kmeans = KMeans(n_clusters = k).fit(X)\r\n",
        "      labels = kmeans.labels_\r\n",
        "      sil.append(silhouette_score(X, labels, metric = 'euclidean'))\r\n",
        "\r\n",
        "    plt.plot(K, sil, 'bx-')\r\n",
        "    plt.xlabel('k')\r\n",
        "    plt.ylabel('silhouette score')\r\n",
        "    plt.title('silhouette method for optimal k')\r\n",
        "    plt.show()\r\n",
        "    return sil"
      ],
      "execution_count": null,
      "outputs": []
    },
    {
      "cell_type": "code",
      "metadata": {
        "colab": {
          "base_uri": "https://localhost:8080/",
          "height": 204
        },
        "id": "zejVMMU2ajIu",
        "outputId": "0c5ebdba-8300-411d-c4c3-d3d7237ac245"
      },
      "source": [
        "#DATA LOADING & PREVIEW          # MODIFICAR \"url\" y asegurarse de usar bien el separador \"sep\", en este ejemplo es \";\"\r\n",
        "\r\n",
        "url = 'https://raw.githubusercontent.com/AlejandroPSJ2/Data_Mining/main/clustering_data.csv'\r\n",
        "df = pd.read_csv(url,sep=';')\r\n",
        "df.head()"
      ],
      "execution_count": null,
      "outputs": [
        {
          "output_type": "execute_result",
          "data": {
            "text/html": [
              "<div>\n",
              "<style scoped>\n",
              "    .dataframe tbody tr th:only-of-type {\n",
              "        vertical-align: middle;\n",
              "    }\n",
              "\n",
              "    .dataframe tbody tr th {\n",
              "        vertical-align: top;\n",
              "    }\n",
              "\n",
              "    .dataframe thead th {\n",
              "        text-align: right;\n",
              "    }\n",
              "</style>\n",
              "<table border=\"1\" class=\"dataframe\">\n",
              "  <thead>\n",
              "    <tr style=\"text-align: right;\">\n",
              "      <th></th>\n",
              "      <th>Cliente</th>\n",
              "      <th>Age</th>\n",
              "      <th>Recencia</th>\n",
              "      <th>Frecuencia</th>\n",
              "      <th>Valor</th>\n",
              "    </tr>\n",
              "  </thead>\n",
              "  <tbody>\n",
              "    <tr>\n",
              "      <th>0</th>\n",
              "      <td>1</td>\n",
              "      <td>23</td>\n",
              "      <td>19</td>\n",
              "      <td>1</td>\n",
              "      <td>100</td>\n",
              "    </tr>\n",
              "    <tr>\n",
              "      <th>1</th>\n",
              "      <td>2</td>\n",
              "      <td>24</td>\n",
              "      <td>24</td>\n",
              "      <td>1</td>\n",
              "      <td>200</td>\n",
              "    </tr>\n",
              "    <tr>\n",
              "      <th>2</th>\n",
              "      <td>3</td>\n",
              "      <td>26</td>\n",
              "      <td>19</td>\n",
              "      <td>1</td>\n",
              "      <td>125</td>\n",
              "    </tr>\n",
              "    <tr>\n",
              "      <th>3</th>\n",
              "      <td>4</td>\n",
              "      <td>33</td>\n",
              "      <td>34</td>\n",
              "      <td>6</td>\n",
              "      <td>750</td>\n",
              "    </tr>\n",
              "    <tr>\n",
              "      <th>4</th>\n",
              "      <td>5</td>\n",
              "      <td>21</td>\n",
              "      <td>24</td>\n",
              "      <td>1</td>\n",
              "      <td>250</td>\n",
              "    </tr>\n",
              "  </tbody>\n",
              "</table>\n",
              "</div>"
            ],
            "text/plain": [
              "   Cliente  Age  Recencia  Frecuencia  Valor\n",
              "0        1   23        19           1    100\n",
              "1        2   24        24           1    200\n",
              "2        3   26        19           1    125\n",
              "3        4   33        34           6    750\n",
              "4        5   21        24           1    250"
            ]
          },
          "metadata": {
            "tags": []
          },
          "execution_count": 3
        }
      ]
    },
    {
      "cell_type": "code",
      "metadata": {
        "id": "M4trkomhem8L"
      },
      "source": [
        "#DATA PREPARATION (VERY IMPORTANT TO DIFFERENTIATE \"X\" AND \"DF\")\r\n",
        "\r\n",
        "X = df.drop(columns='Cliente')    # SIEMPRE ELIMINAR CUALQUIER \"ID\" o VARIABLE QUE NO VAYA ENTRAR AL MODELO\r\n",
        "X = normalize(X)        # MIN-MAX ESTANDARIZACION"
      ],
      "execution_count": null,
      "outputs": []
    },
    {
      "cell_type": "code",
      "metadata": {
        "id": "7imvLc4ZZVJJ"
      },
      "source": [
        "# OPTIMAL NUMBER \"K\" OF CLUSTERS          # NO MODIFICAR\r\n",
        "\r\n",
        "print(elbow(X))\r\n",
        "print(silhouette(X))"
      ],
      "execution_count": null,
      "outputs": []
    },
    {
      "cell_type": "code",
      "metadata": {
        "id": "oxsYkM95GJQP"
      },
      "source": [
        "# ALGORITHM FIT \r\n",
        "\r\n",
        "kmeans = KMeans(n_clusters=5, random_state=44).fit(X)     # AQUI PRECISAR EL NUMERO DE CLUSTERS \"n_clusters\""
      ],
      "execution_count": null,
      "outputs": []
    },
    {
      "cell_type": "code",
      "metadata": {
        "colab": {
          "base_uri": "https://localhost:8080/"
        },
        "id": "48VQswWWBeVB",
        "outputId": "9025cf1c-62ed-4c51-d46d-31ec93e4d048"
      },
      "source": [
        "# CLUSTER CENTROIDS       # NO MODIFICAR\r\n",
        "\r\n",
        "print('Centroides optimos de clusteres')\r\n",
        "print(centroides(X,kmeans.cluster_centers_))"
      ],
      "execution_count": null,
      "outputs": [
        {
          "output_type": "stream",
          "text": [
            "Centroides optimos de clusteres\n",
            "   cluster       Age  Recencia  Frecuencia     Valor\n",
            "0        0  0.120594  0.027444    0.099174  0.096170\n",
            "1        1  0.353741  0.358491    0.242424  0.390432\n",
            "2        2  0.591837  1.000000    0.127273  0.888889\n",
            "3        3  0.844898  0.211321    0.000000  0.142593\n",
            "4        4  0.401361  0.320755    0.909091  0.232253\n"
          ],
          "name": "stdout"
        }
      ]
    },
    {
      "cell_type": "code",
      "metadata": {
        "colab": {
          "base_uri": "https://localhost:8080/"
        },
        "id": "mrylgtFsN0NT",
        "outputId": "865ccaf5-3da6-479c-f7b3-2622e1b5afdc"
      },
      "source": [
        "# CLUSTER RESULTS          # NO MODIFICAR\r\n",
        "\r\n",
        "print('Asignacion de clusteres segun cada observacion')     \r\n",
        "print(clusteres(df,kmeans.labels_).head())"
      ],
      "execution_count": null,
      "outputs": [
        {
          "output_type": "stream",
          "text": [
            "Asignacion de clusteres segun cada observacion\n",
            "   Cliente  Age  Recencia  Frecuencia  Valor  cluster\n",
            "0        1   23        19           1    100        0\n",
            "1        2   24        24           1    200        0\n",
            "2        3   26        19           1    125        0\n",
            "3        4   33        34           6    750        1\n",
            "4        5   21        24           1    250        0\n"
          ],
          "name": "stdout"
        }
      ]
    },
    {
      "cell_type": "code",
      "metadata": {
        "colab": {
          "base_uri": "https://localhost:8080/",
          "height": 17
        },
        "id": "Vh5cXlPfbOLa",
        "outputId": "f64c22f2-dc38-4cd6-d71c-6651ce129825"
      },
      "source": [
        "# EXPORT RESULTS\r\n",
        "centroides(X,kmeans.cluster_centers_).to_csv('centroides.csv')          #se puede cambiar nombre del csv si se desea (cambiar en download tmb)\r\n",
        "files.download('centroides.csv')\r\n",
        "\r\n",
        "clusteres(df,kmeans.labels_).to_csv('resultados.csv')      #se puede cambiar nombre del csv si se desea (cambiar en download tmb)\r\n",
        "files.download('resultados.csv')"
      ],
      "execution_count": null,
      "outputs": [
        {
          "output_type": "display_data",
          "data": {
            "application/javascript": [
              "\n",
              "    async function download(id, filename, size) {\n",
              "      if (!google.colab.kernel.accessAllowed) {\n",
              "        return;\n",
              "      }\n",
              "      const div = document.createElement('div');\n",
              "      const label = document.createElement('label');\n",
              "      label.textContent = `Downloading \"${filename}\": `;\n",
              "      div.appendChild(label);\n",
              "      const progress = document.createElement('progress');\n",
              "      progress.max = size;\n",
              "      div.appendChild(progress);\n",
              "      document.body.appendChild(div);\n",
              "\n",
              "      const buffers = [];\n",
              "      let downloaded = 0;\n",
              "\n",
              "      const channel = await google.colab.kernel.comms.open(id);\n",
              "      // Send a message to notify the kernel that we're ready.\n",
              "      channel.send({})\n",
              "\n",
              "      for await (const message of channel.messages) {\n",
              "        // Send a message to notify the kernel that we're ready.\n",
              "        channel.send({})\n",
              "        if (message.buffers) {\n",
              "          for (const buffer of message.buffers) {\n",
              "            buffers.push(buffer);\n",
              "            downloaded += buffer.byteLength;\n",
              "            progress.value = downloaded;\n",
              "          }\n",
              "        }\n",
              "      }\n",
              "      const blob = new Blob(buffers, {type: 'application/binary'});\n",
              "      const a = document.createElement('a');\n",
              "      a.href = window.URL.createObjectURL(blob);\n",
              "      a.download = filename;\n",
              "      div.appendChild(a);\n",
              "      a.click();\n",
              "      div.remove();\n",
              "    }\n",
              "  "
            ],
            "text/plain": [
              "<IPython.core.display.Javascript object>"
            ]
          },
          "metadata": {
            "tags": []
          }
        },
        {
          "output_type": "display_data",
          "data": {
            "application/javascript": [
              "download(\"download_afc88946-1ed2-4553-88ee-763dc936df8a\", \"centroides.csv\", 795)"
            ],
            "text/plain": [
              "<IPython.core.display.Javascript object>"
            ]
          },
          "metadata": {
            "tags": []
          }
        },
        {
          "output_type": "display_data",
          "data": {
            "application/javascript": [
              "\n",
              "    async function download(id, filename, size) {\n",
              "      if (!google.colab.kernel.accessAllowed) {\n",
              "        return;\n",
              "      }\n",
              "      const div = document.createElement('div');\n",
              "      const label = document.createElement('label');\n",
              "      label.textContent = `Downloading \"${filename}\": `;\n",
              "      div.appendChild(label);\n",
              "      const progress = document.createElement('progress');\n",
              "      progress.max = size;\n",
              "      div.appendChild(progress);\n",
              "      document.body.appendChild(div);\n",
              "\n",
              "      const buffers = [];\n",
              "      let downloaded = 0;\n",
              "\n",
              "      const channel = await google.colab.kernel.comms.open(id);\n",
              "      // Send a message to notify the kernel that we're ready.\n",
              "      channel.send({})\n",
              "\n",
              "      for await (const message of channel.messages) {\n",
              "        // Send a message to notify the kernel that we're ready.\n",
              "        channel.send({})\n",
              "        if (message.buffers) {\n",
              "          for (const buffer of message.buffers) {\n",
              "            buffers.push(buffer);\n",
              "            downloaded += buffer.byteLength;\n",
              "            progress.value = downloaded;\n",
              "          }\n",
              "        }\n",
              "      }\n",
              "      const blob = new Blob(buffers, {type: 'application/binary'});\n",
              "      const a = document.createElement('a');\n",
              "      a.href = window.URL.createObjectURL(blob);\n",
              "      a.download = filename;\n",
              "      div.appendChild(a);\n",
              "      a.click();\n",
              "      div.remove();\n",
              "    }\n",
              "  "
            ],
            "text/plain": [
              "<IPython.core.display.Javascript object>"
            ]
          },
          "metadata": {
            "tags": []
          }
        },
        {
          "output_type": "display_data",
          "data": {
            "application/javascript": [
              "download(\"download_5515b512-7293-4c65-802f-10c574512152\", \"resultados.csv\", 23201)"
            ],
            "text/plain": [
              "<IPython.core.display.Javascript object>"
            ]
          },
          "metadata": {
            "tags": []
          }
        }
      ]
    },
    {
      "cell_type": "code",
      "metadata": {
        "id": "TOYgtFPSd3Gf"
      },
      "source": [
        "#from google.colab import drive\r\n",
        "#drive.mount(\"/content/gdrive\")\r\n"
      ],
      "execution_count": null,
      "outputs": []
    }
  ]
}