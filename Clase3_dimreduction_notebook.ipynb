{
  "nbformat": 4,
  "nbformat_minor": 0,
  "metadata": {
    "colab": {
      "name": "Clase3_dimreduction_notebook.ipynb",
      "provenance": [],
      "collapsed_sections": [],
      "authorship_tag": "ABX9TyPbYzBQC1r0YlZ8or/JR1W/",
      "include_colab_link": true
    },
    "kernelspec": {
      "name": "python3",
      "display_name": "Python 3"
    }
  },
  "cells": [
    {
      "cell_type": "markdown",
      "metadata": {
        "id": "view-in-github",
        "colab_type": "text"
      },
      "source": [
        "<a href=\"https://colab.research.google.com/github/AlejandroPSJ2/Data_Mining/blob/main/Clase3_dimreduction_notebook.ipynb\" target=\"_parent\"><img src=\"https://colab.research.google.com/assets/colab-badge.svg\" alt=\"Open In Colab\"/></a>"
      ]
    },
    {
      "cell_type": "code",
      "metadata": {
        "id": "ZQ98WxVHqcMz"
      },
      "source": [
        "# LIBRERIAS BASE\r\n",
        "\r\n",
        "from google.colab import files\r\n",
        "import pandas as pd\r\n",
        "from sklearn.preprocessing import StandardScaler\r\n",
        "from sklearn.decomposition import PCA"
      ],
      "execution_count": 9,
      "outputs": []
    },
    {
      "cell_type": "code",
      "metadata": {
        "id": "nJHjeyHCIaL6"
      },
      "source": [
        "# FUNCIONES\r\n",
        "\r\n",
        "def dimensiones(a,b):\r\n",
        "    res = pd.DataFrame(data=b)\r\n",
        "    i=0\r\n",
        "    for x in a.columns:\r\n",
        "        res.rename(columns={i:x},inplace=True)\r\n",
        "        i = i+1\r\n",
        "    res.reset_index(inplace=True)\r\n",
        "    res.rename(columns={'index':'dimension'},inplace=True)\r\n",
        "    return res "
      ],
      "execution_count": 2,
      "outputs": []
    },
    {
      "cell_type": "code",
      "metadata": {
        "colab": {
          "base_uri": "https://localhost:8080/",
          "height": 309
        },
        "id": "VLoQP17sB6Om",
        "outputId": "f5385b5c-191c-41e6-ba8d-2bc9a75f7d36"
      },
      "source": [
        "#DATA LOADING & PREVIEW\r\n",
        "\r\n",
        "url = 'https://raw.githubusercontent.com/AlejandroPSJ2/Data_Mining/main/dimreduction_sample_original.csv'\r\n",
        "df = pd.read_csv(url,sep=';')\r\n",
        "df.head()"
      ],
      "execution_count": 3,
      "outputs": [
        {
          "output_type": "execute_result",
          "data": {
            "text/html": [
              "<div>\n",
              "<style scoped>\n",
              "    .dataframe tbody tr th:only-of-type {\n",
              "        vertical-align: middle;\n",
              "    }\n",
              "\n",
              "    .dataframe tbody tr th {\n",
              "        vertical-align: top;\n",
              "    }\n",
              "\n",
              "    .dataframe thead th {\n",
              "        text-align: right;\n",
              "    }\n",
              "</style>\n",
              "<table border=\"1\" class=\"dataframe\">\n",
              "  <thead>\n",
              "    <tr style=\"text-align: right;\">\n",
              "      <th></th>\n",
              "      <th>fecha</th>\n",
              "      <th>Harina_pescado</th>\n",
              "      <th>Azucar</th>\n",
              "      <th>Cafe</th>\n",
              "      <th>Cobre</th>\n",
              "      <th>Estano</th>\n",
              "      <th>Oro</th>\n",
              "      <th>Plata</th>\n",
              "      <th>Plomo</th>\n",
              "      <th>Zinc</th>\n",
              "      <th>Niquel</th>\n",
              "      <th>Petroleo</th>\n",
              "      <th>Trigo</th>\n",
              "      <th>Maiz</th>\n",
              "      <th>Aceite_soya</th>\n",
              "      <th>Fr_soya</th>\n",
              "      <th>Harina_soya</th>\n",
              "    </tr>\n",
              "  </thead>\n",
              "  <tbody>\n",
              "    <tr>\n",
              "      <th>0</th>\n",
              "      <td>Ene-17</td>\n",
              "      <td>1490.0</td>\n",
              "      <td>648.780354</td>\n",
              "      <td>3686.159087</td>\n",
              "      <td>260.545004</td>\n",
              "      <td>939.621955</td>\n",
              "      <td>1191.093182</td>\n",
              "      <td>16.857045</td>\n",
              "      <td>101.222230</td>\n",
              "      <td>122.817350</td>\n",
              "      <td>452.282622</td>\n",
              "      <td>52.554091</td>\n",
              "      <td>163.292389</td>\n",
              "      <td>132.706829</td>\n",
              "      <td>760.043649</td>\n",
              "      <td>366.602019</td>\n",
              "      <td>369.321531</td>\n",
              "    </tr>\n",
              "    <tr>\n",
              "      <th>1</th>\n",
              "      <td>Feb-17</td>\n",
              "      <td>1352.5</td>\n",
              "      <td>673.468118</td>\n",
              "      <td>3651.461333</td>\n",
              "      <td>269.475258</td>\n",
              "      <td>882.077268</td>\n",
              "      <td>1234.357500</td>\n",
              "      <td>17.939500</td>\n",
              "      <td>104.847876</td>\n",
              "      <td>129.071977</td>\n",
              "      <td>482.771967</td>\n",
              "      <td>53.465500</td>\n",
              "      <td>170.692906</td>\n",
              "      <td>135.800817</td>\n",
              "      <td>710.208154</td>\n",
              "      <td>365.214109</td>\n",
              "      <td>368.392440</td>\n",
              "    </tr>\n",
              "    <tr>\n",
              "      <th>2</th>\n",
              "      <td>Mar-17</td>\n",
              "      <td>1300.0</td>\n",
              "      <td>660.322817</td>\n",
              "      <td>3514.446433</td>\n",
              "      <td>264.200792</td>\n",
              "      <td>901.523710</td>\n",
              "      <td>1231.093478</td>\n",
              "      <td>17.619565</td>\n",
              "      <td>103.460968</td>\n",
              "      <td>125.957178</td>\n",
              "      <td>462.875729</td>\n",
              "      <td>49.327826</td>\n",
              "      <td>167.679124</td>\n",
              "      <td>132.208891</td>\n",
              "      <td>693.296303</td>\n",
              "      <td>350.710728</td>\n",
              "      <td>354.319599</td>\n",
              "    </tr>\n",
              "    <tr>\n",
              "      <th>3</th>\n",
              "      <td>Abr-17</td>\n",
              "      <td>1300.0</td>\n",
              "      <td>632.991247</td>\n",
              "      <td>3439.266406</td>\n",
              "      <td>257.709072</td>\n",
              "      <td>901.686634</td>\n",
              "      <td>1267.480000</td>\n",
              "      <td>18.055500</td>\n",
              "      <td>100.812038</td>\n",
              "      <td>118.590591</td>\n",
              "      <td>436.259472</td>\n",
              "      <td>51.185500</td>\n",
              "      <td>148.554821</td>\n",
              "      <td>131.863991</td>\n",
              "      <td>659.887643</td>\n",
              "      <td>332.181513</td>\n",
              "      <td>335.952993</td>\n",
              "    </tr>\n",
              "    <tr>\n",
              "      <th>4</th>\n",
              "      <td>May-17</td>\n",
              "      <td>1300.0</td>\n",
              "      <td>626.371628</td>\n",
              "      <td>3331.491512</td>\n",
              "      <td>254.286348</td>\n",
              "      <td>916.562269</td>\n",
              "      <td>1246.808696</td>\n",
              "      <td>16.768696</td>\n",
              "      <td>96.665464</td>\n",
              "      <td>117.626362</td>\n",
              "      <td>415.533012</td>\n",
              "      <td>48.524348</td>\n",
              "      <td>159.323923</td>\n",
              "      <td>133.407055</td>\n",
              "      <td>697.408403</td>\n",
              "      <td>335.805562</td>\n",
              "      <td>338.938682</td>\n",
              "    </tr>\n",
              "  </tbody>\n",
              "</table>\n",
              "</div>"
            ],
            "text/plain": [
              "    fecha  Harina_pescado      Azucar  ...  Aceite_soya     Fr_soya  Harina_soya\n",
              "0  Ene-17          1490.0  648.780354  ...   760.043649  366.602019   369.321531\n",
              "1  Feb-17          1352.5  673.468118  ...   710.208154  365.214109   368.392440\n",
              "2  Mar-17          1300.0  660.322817  ...   693.296303  350.710728   354.319599\n",
              "3  Abr-17          1300.0  632.991247  ...   659.887643  332.181513   335.952993\n",
              "4  May-17          1300.0  626.371628  ...   697.408403  335.805562   338.938682\n",
              "\n",
              "[5 rows x 17 columns]"
            ]
          },
          "metadata": {
            "tags": []
          },
          "execution_count": 3
        }
      ]
    },
    {
      "cell_type": "code",
      "metadata": {
        "id": "_Bx3FgPQChBG"
      },
      "source": [
        "#DATA PREPARATION (VERY IMPORTANT TO DIFFERENTIATE \"X\" AND \"DF\")\r\n",
        "\r\n",
        "X = df.drop(columns='fecha')\r\n",
        "X2 = StandardScaler().fit_transform(X)"
      ],
      "execution_count": 13,
      "outputs": []
    },
    {
      "cell_type": "code",
      "metadata": {
        "colab": {
          "base_uri": "https://localhost:8080/"
        },
        "id": "3z1ZBrhgB6Q0",
        "outputId": "d5a806e0-ed85-4841-8f8c-15260b8b67ee"
      },
      "source": [
        "# ALGORITHM FIT\r\n",
        "\r\n",
        "pca = PCA(n_components=4)\r\n",
        "pca.fit(X2)\r\n",
        "print(pca.explained_variance_ratio_)\r\n",
        "print(sum(pca.explained_variance_ratio_))"
      ],
      "execution_count": 14,
      "outputs": [
        {
          "output_type": "stream",
          "text": [
            "[0.33154417 0.26769747 0.17789018 0.06182927]\n",
            "0.8389610781079572\n"
          ],
          "name": "stdout"
        }
      ]
    },
    {
      "cell_type": "code",
      "metadata": {
        "colab": {
          "base_uri": "https://localhost:8080/"
        },
        "id": "g5UISWJtHOyb",
        "outputId": "df0b1091-1e8c-4e09-a502-732293ce8abc"
      },
      "source": [
        "# RELACION DIMENSIONES NUEVAS VS ORIGINALES\r\n",
        "\r\n",
        "print('componentes principales')\r\n",
        "print(dimensiones(X,pca.components_))"
      ],
      "execution_count": 15,
      "outputs": [
        {
          "output_type": "stream",
          "text": [
            "componentes principales\n",
            "   dimension  Harina_pescado    Azucar  ...  Aceite_soya   Fr_soya  Harina_soya\n",
            "0          0        0.006759  0.177808  ...     0.384339  0.411294     0.351012\n",
            "1          1        0.068999  0.100678  ...     0.000022  0.007923    -0.131949\n",
            "2          2       -0.440246  0.419638  ...     0.190052  0.117700    -0.150714\n",
            "3          3        0.322666 -0.212171  ...    -0.011191 -0.074448    -0.151103\n",
            "\n",
            "[4 rows x 17 columns]\n"
          ],
          "name": "stdout"
        }
      ]
    },
    {
      "cell_type": "code",
      "metadata": {
        "colab": {
          "base_uri": "https://localhost:8080/"
        },
        "id": "QV9u2GpqHO0r",
        "outputId": "78c80360-7fac-49c3-f08e-d97bb8e240f8"
      },
      "source": [
        "# NUEVO DATASET\r\n",
        "\r\n",
        "X = X.join(pd.DataFrame(data=pca.transform(X2)))\r\n",
        "print('nueva data (junta con la anterior)')\r\n",
        "print(X.head())"
      ],
      "execution_count": 16,
      "outputs": [
        {
          "output_type": "stream",
          "text": [
            "nueva data (junta con la anterior)\n",
            "   Harina_pescado      Azucar         Cafe  ...         1         2         3\n",
            "0          1490.0  648.780354  3686.159087  ... -0.585520  2.996812 -0.413886\n",
            "1          1352.5  673.468118  3651.461333  ... -0.511058  3.602587 -0.821470\n",
            "2          1300.0  660.322817  3514.446433  ... -0.560474  3.723729 -0.904558\n",
            "3          1300.0  632.991247  3439.266406  ... -0.401325  3.544135 -0.668265\n",
            "4          1300.0  626.371628  3331.491512  ... -0.445531  3.276617 -1.153433\n",
            "\n",
            "[5 rows x 20 columns]\n"
          ],
          "name": "stdout"
        }
      ]
    },
    {
      "cell_type": "code",
      "metadata": {
        "id": "LeysB-FYqguy",
        "colab": {
          "base_uri": "https://localhost:8080/",
          "height": 17
        },
        "outputId": "69c7df90-9674-4f40-c1cf-f627674bf710"
      },
      "source": [
        "# EXPORT RESULTS\r\n",
        "\r\n",
        "dimensiones(X,pca.components_).to_csv('dimensiones.csv') \r\n",
        "files.download('dimensiones.csv')\r\n",
        "\r\n",
        "X.to_csv('resultados.csv') \r\n",
        "files.download('resultados.csv')"
      ],
      "execution_count": 10,
      "outputs": [
        {
          "output_type": "display_data",
          "data": {
            "application/javascript": [
              "\n",
              "    async function download(id, filename, size) {\n",
              "      if (!google.colab.kernel.accessAllowed) {\n",
              "        return;\n",
              "      }\n",
              "      const div = document.createElement('div');\n",
              "      const label = document.createElement('label');\n",
              "      label.textContent = `Downloading \"${filename}\": `;\n",
              "      div.appendChild(label);\n",
              "      const progress = document.createElement('progress');\n",
              "      progress.max = size;\n",
              "      div.appendChild(progress);\n",
              "      document.body.appendChild(div);\n",
              "\n",
              "      const buffers = [];\n",
              "      let downloaded = 0;\n",
              "\n",
              "      const channel = await google.colab.kernel.comms.open(id);\n",
              "      // Send a message to notify the kernel that we're ready.\n",
              "      channel.send({})\n",
              "\n",
              "      for await (const message of channel.messages) {\n",
              "        // Send a message to notify the kernel that we're ready.\n",
              "        channel.send({})\n",
              "        if (message.buffers) {\n",
              "          for (const buffer of message.buffers) {\n",
              "            buffers.push(buffer);\n",
              "            downloaded += buffer.byteLength;\n",
              "            progress.value = downloaded;\n",
              "          }\n",
              "        }\n",
              "      }\n",
              "      const blob = new Blob(buffers, {type: 'application/binary'});\n",
              "      const a = document.createElement('a');\n",
              "      a.href = window.URL.createObjectURL(blob);\n",
              "      a.download = filename;\n",
              "      div.appendChild(a);\n",
              "      a.click();\n",
              "      div.remove();\n",
              "    }\n",
              "  "
            ],
            "text/plain": [
              "<IPython.core.display.Javascript object>"
            ]
          },
          "metadata": {
            "tags": []
          }
        },
        {
          "output_type": "display_data",
          "data": {
            "application/javascript": [
              "download(\"download_cff9d5d1-9098-42fb-b2e4-9e2d043bf05f\", \"dimensiones.csv\", 1424)"
            ],
            "text/plain": [
              "<IPython.core.display.Javascript object>"
            ]
          },
          "metadata": {
            "tags": []
          }
        },
        {
          "output_type": "display_data",
          "data": {
            "application/javascript": [
              "\n",
              "    async function download(id, filename, size) {\n",
              "      if (!google.colab.kernel.accessAllowed) {\n",
              "        return;\n",
              "      }\n",
              "      const div = document.createElement('div');\n",
              "      const label = document.createElement('label');\n",
              "      label.textContent = `Downloading \"${filename}\": `;\n",
              "      div.appendChild(label);\n",
              "      const progress = document.createElement('progress');\n",
              "      progress.max = size;\n",
              "      div.appendChild(progress);\n",
              "      document.body.appendChild(div);\n",
              "\n",
              "      const buffers = [];\n",
              "      let downloaded = 0;\n",
              "\n",
              "      const channel = await google.colab.kernel.comms.open(id);\n",
              "      // Send a message to notify the kernel that we're ready.\n",
              "      channel.send({})\n",
              "\n",
              "      for await (const message of channel.messages) {\n",
              "        // Send a message to notify the kernel that we're ready.\n",
              "        channel.send({})\n",
              "        if (message.buffers) {\n",
              "          for (const buffer of message.buffers) {\n",
              "            buffers.push(buffer);\n",
              "            downloaded += buffer.byteLength;\n",
              "            progress.value = downloaded;\n",
              "          }\n",
              "        }\n",
              "      }\n",
              "      const blob = new Blob(buffers, {type: 'application/binary'});\n",
              "      const a = document.createElement('a');\n",
              "      a.href = window.URL.createObjectURL(blob);\n",
              "      a.download = filename;\n",
              "      div.appendChild(a);\n",
              "      a.click();\n",
              "      div.remove();\n",
              "    }\n",
              "  "
            ],
            "text/plain": [
              "<IPython.core.display.Javascript object>"
            ]
          },
          "metadata": {
            "tags": []
          }
        },
        {
          "output_type": "display_data",
          "data": {
            "application/javascript": [
              "download(\"download_247fa528-87c2-44d9-b7c0-fda7bc000eb6\", \"resultados.csv\", 14356)"
            ],
            "text/plain": [
              "<IPython.core.display.Javascript object>"
            ]
          },
          "metadata": {
            "tags": []
          }
        }
      ]
    },
    {
      "cell_type": "code",
      "metadata": {
        "id": "H5qQMwRPHFlb"
      },
      "source": [
        ""
      ],
      "execution_count": null,
      "outputs": []
    }
  ]
}