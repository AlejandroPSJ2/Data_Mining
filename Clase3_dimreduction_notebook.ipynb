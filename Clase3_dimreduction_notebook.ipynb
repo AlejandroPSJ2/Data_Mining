{
  "nbformat": 4,
  "nbformat_minor": 0,
  "metadata": {
    "colab": {
      "name": "Clase3_dimreduction_notebook.ipynb",
      "provenance": [],
      "collapsed_sections": [],
      "authorship_tag": "ABX9TyN7Z8rmzJPrhIaqQU6pCf48",
      "include_colab_link": true
    },
    "kernelspec": {
      "name": "python3",
      "display_name": "Python 3"
    }
  },
  "cells": [
    {
      "cell_type": "markdown",
      "metadata": {
        "id": "view-in-github",
        "colab_type": "text"
      },
      "source": [
        "<a href=\"https://colab.research.google.com/github/AlejandroPSJ2/Data_Mining/blob/main/Clase3_dimreduction_notebook.ipynb\" target=\"_parent\"><img src=\"https://colab.research.google.com/assets/colab-badge.svg\" alt=\"Open In Colab\"/></a>"
      ]
    },
    {
      "cell_type": "code",
      "metadata": {
        "id": "ZQ98WxVHqcMz"
      },
      "source": [
        "# LIBRERIAS BASE\r\n",
        "\r\n",
        "from google.colab import files\r\n",
        "import pandas as pd\r\n",
        "from sklearn.preprocessing import StandardScaler\r\n",
        "from sklearn.decomposition import PCA"
      ],
      "execution_count": 11,
      "outputs": []
    },
    {
      "cell_type": "code",
      "metadata": {
        "id": "nJHjeyHCIaL6"
      },
      "source": [
        "# FUNCIONES\r\n",
        "\r\n",
        "def dimensiones(a,b):\r\n",
        "    res = pd.DataFrame(data=b)\r\n",
        "    i=0\r\n",
        "    for x in a.columns:\r\n",
        "        res.rename(columns={i:x},inplace=True)\r\n",
        "        i = i+1\r\n",
        "    res.reset_index(inplace=True)\r\n",
        "    res.rename(columns={'index':'dimension'},inplace=True)\r\n",
        "    return res "
      ],
      "execution_count": 12,
      "outputs": []
    },
    {
      "cell_type": "code",
      "metadata": {
        "colab": {
          "base_uri": "https://localhost:8080/",
          "height": 203
        },
        "id": "VLoQP17sB6Om",
        "outputId": "64c68605-5b94-4c8a-cfe1-816a0142de43"
      },
      "source": [
        "#DATA LOADING & PREVIEW\r\n",
        "\r\n",
        "url = 'https://raw.githubusercontent.com/AlejandroPSJ2/Data_Mining/main/clustering_data2_norm.csv'\r\n",
        "df = pd.read_csv(url,sep=';')\r\n",
        "df.head()"
      ],
      "execution_count": 13,
      "outputs": [
        {
          "output_type": "execute_result",
          "data": {
            "text/html": [
              "<div>\n",
              "<style scoped>\n",
              "    .dataframe tbody tr th:only-of-type {\n",
              "        vertical-align: middle;\n",
              "    }\n",
              "\n",
              "    .dataframe tbody tr th {\n",
              "        vertical-align: top;\n",
              "    }\n",
              "\n",
              "    .dataframe thead th {\n",
              "        text-align: right;\n",
              "    }\n",
              "</style>\n",
              "<table border=\"1\" class=\"dataframe\">\n",
              "  <thead>\n",
              "    <tr style=\"text-align: right;\">\n",
              "      <th></th>\n",
              "      <th>country</th>\n",
              "      <th>child_mort</th>\n",
              "      <th>exports</th>\n",
              "      <th>health</th>\n",
              "      <th>imports</th>\n",
              "      <th>income</th>\n",
              "      <th>inflation</th>\n",
              "      <th>life_expec</th>\n",
              "      <th>total_fer</th>\n",
              "      <th>gdpp</th>\n",
              "    </tr>\n",
              "  </thead>\n",
              "  <tbody>\n",
              "    <tr>\n",
              "      <th>0</th>\n",
              "      <td>Afghanistan</td>\n",
              "      <td>0.426485</td>\n",
              "      <td>0.049482</td>\n",
              "      <td>0.358608</td>\n",
              "      <td>0.257765</td>\n",
              "      <td>0.008047</td>\n",
              "      <td>0.126144</td>\n",
              "      <td>0.475345</td>\n",
              "      <td>0.736593</td>\n",
              "      <td>0.003073</td>\n",
              "    </tr>\n",
              "    <tr>\n",
              "      <th>1</th>\n",
              "      <td>Albania</td>\n",
              "      <td>0.068160</td>\n",
              "      <td>0.139531</td>\n",
              "      <td>0.294593</td>\n",
              "      <td>0.279037</td>\n",
              "      <td>0.074933</td>\n",
              "      <td>0.080399</td>\n",
              "      <td>0.871795</td>\n",
              "      <td>0.078864</td>\n",
              "      <td>0.036833</td>\n",
              "    </tr>\n",
              "    <tr>\n",
              "      <th>2</th>\n",
              "      <td>Algeria</td>\n",
              "      <td>0.120253</td>\n",
              "      <td>0.191559</td>\n",
              "      <td>0.146675</td>\n",
              "      <td>0.180149</td>\n",
              "      <td>0.098809</td>\n",
              "      <td>0.187691</td>\n",
              "      <td>0.875740</td>\n",
              "      <td>0.274448</td>\n",
              "      <td>0.040365</td>\n",
              "    </tr>\n",
              "    <tr>\n",
              "      <th>3</th>\n",
              "      <td>Angola</td>\n",
              "      <td>0.566699</td>\n",
              "      <td>0.311125</td>\n",
              "      <td>0.064636</td>\n",
              "      <td>0.246266</td>\n",
              "      <td>0.042535</td>\n",
              "      <td>0.245911</td>\n",
              "      <td>0.552268</td>\n",
              "      <td>0.790221</td>\n",
              "      <td>0.031488</td>\n",
              "    </tr>\n",
              "    <tr>\n",
              "      <th>4</th>\n",
              "      <td>Antigua and Barbuda</td>\n",
              "      <td>0.037488</td>\n",
              "      <td>0.227079</td>\n",
              "      <td>0.262275</td>\n",
              "      <td>0.338255</td>\n",
              "      <td>0.148652</td>\n",
              "      <td>0.052213</td>\n",
              "      <td>0.881657</td>\n",
              "      <td>0.154574</td>\n",
              "      <td>0.114242</td>\n",
              "    </tr>\n",
              "  </tbody>\n",
              "</table>\n",
              "</div>"
            ],
            "text/plain": [
              "               country  child_mort   exports  ...  life_expec  total_fer      gdpp\n",
              "0          Afghanistan    0.426485  0.049482  ...    0.475345   0.736593  0.003073\n",
              "1              Albania    0.068160  0.139531  ...    0.871795   0.078864  0.036833\n",
              "2              Algeria    0.120253  0.191559  ...    0.875740   0.274448  0.040365\n",
              "3               Angola    0.566699  0.311125  ...    0.552268   0.790221  0.031488\n",
              "4  Antigua and Barbuda    0.037488  0.227079  ...    0.881657   0.154574  0.114242\n",
              "\n",
              "[5 rows x 10 columns]"
            ]
          },
          "metadata": {
            "tags": []
          },
          "execution_count": 13
        }
      ]
    },
    {
      "cell_type": "code",
      "metadata": {
        "id": "_Bx3FgPQChBG",
        "outputId": "9aa6c9e8-0f51-413b-f074-cb3e1de8e165",
        "colab": {
          "base_uri": "https://localhost:8080/"
        }
      },
      "source": [
        "#DATA PREPARATION (VERY IMPORTANT TO DIFFERENTIATE \"X\" AND \"DF\")\r\n",
        "\r\n",
        "X = df.drop(columns='fecha')\r\n",
        "X2 = StandardScaler().fit_transform(X)    # NORMALIZACION DE VARIABLES\r\n",
        "print(X2)"
      ],
      "execution_count": 5,
      "outputs": [
        {
          "output_type": "stream",
          "text": [
            "[[ 0.33155724  2.02602543  1.73112015 -0.85391791  0.92118449 -1.03848952\n",
            "  -0.22221384  0.57233078  0.12710784 -1.37420192 -0.03867814 -1.4122584\n",
            "  -0.12793706  0.97923477  0.89471086  0.3479585 ]\n",
            " [-1.27788264  2.8350782   1.60030675 -0.52616883  0.21702548 -0.85146778\n",
            "   0.12026864  0.90101464  0.48388767 -1.05990044  0.04230267 -1.12321268\n",
            "   0.07903241  0.33584879  0.85842084  0.32258943]\n",
            " [-1.89239605  2.40428817  1.08374925 -0.71974689  0.45498641 -0.8655774\n",
            "   0.01904309  0.77528416  0.3062116  -1.26500216 -0.32533928 -1.24092352\n",
            "  -0.1612462   0.11751348  0.47919747 -0.06167325]\n",
            " [-1.89239605  1.5085942   0.80031434 -0.95799938  0.45698006 -0.70828681\n",
            "   0.15697038  0.53514474 -0.11399727 -1.53937766 -0.16028063 -1.98787102\n",
            "  -0.18431798 -0.31379884 -0.00529031 -0.56317832]\n",
            " [-1.89239605  1.29165998  0.39399408 -1.08361671  0.63900926 -0.79764412\n",
            "  -0.25016722  0.15923607 -0.16899934 -1.75303777 -0.39673019 -1.56725678\n",
            "  -0.08109608  0.1706015   0.08946854 -0.48165329]\n",
            " [-2.13181685  0.85625517 -0.18905055 -0.89432541  0.33489895 -0.73951097\n",
            "  -0.1987719   0.16673285 -0.22028087 -1.86019669 -0.69408521 -1.22634545\n",
            "  -0.04294671  0.21735586 -0.15206618 -0.68421891]\n",
            " [-2.47764691  0.10277438  0.42208663 -0.45257693  0.64829915 -0.84341045\n",
            "  -0.44591902  0.72977701  0.33288786 -1.59851929 -0.57016698 -0.33769082\n",
            "  -0.11152041  0.71135211  0.44806769  0.07051111]\n",
            " [-1.85422751 -1.12081448  0.68309354  0.39241837  0.81184666 -0.64359372\n",
            "  -0.1922533   1.04440013  0.84202972 -0.9336596  -0.44003604 -1.57349641\n",
            "  -0.6341319   0.82201255  0.06524102 -0.64659528]\n",
            " [-1.01451975  0.19910582  0.2617913   0.53302157  0.96642146 -0.50296137\n",
            "  -0.03626369  1.15963338  1.18586951 -0.79221255 -0.29201689 -1.51175368\n",
            "  -0.98308481  0.96059886  0.18088865 -0.55930846]\n",
            " [-1.01451975  0.33376655 -0.27027764  0.91663428  0.73300778 -0.65626816\n",
            "  -0.19553605  1.66880031  1.56814621 -0.73610797 -0.12543032 -1.28375015\n",
            "  -0.88087977  0.63147954  0.23703617 -0.29865195]\n",
            " [-0.81500241  0.47268087 -0.18905055  0.94816953  0.2786624  -0.64429211\n",
            "  -0.18180166  1.51754219  1.47682252 -0.43861524  0.32642414 -1.1304535\n",
            "  -0.98262879  0.82139943  0.30385173 -0.30497272]\n",
            " [ 0.50434559  0.20289027 -0.36058994  1.00021571  0.23909595 -0.72374174\n",
            "  -0.4374065   1.70355027  1.4075856  -0.63589317  0.43623369 -1.22609694\n",
            "  -0.83886911  0.5099488   0.1932411   0.07638039]\n",
            " [ 1.33920656 -0.00912866 -0.22666633  1.35676659  0.89657608 -0.43743514\n",
            "  -0.13901652  2.00416219  2.0142092  -0.024357    0.94103815 -0.44412128\n",
            "  -0.62268189  0.49346081  0.19765695 -0.17522027]\n",
            " [ 1.61910914 -0.68559529 -0.27915595  1.24778659  1.44094995 -0.43143495\n",
            "  -0.30670551  2.00946987  2.26234147  0.32069048  0.81949396  0.12820985\n",
            "  -0.21855353  0.06346641  0.58028472  1.40765492]\n",
            " [ 1.61910914 -1.37753968 -0.51395892  0.89353617  1.19601318 -0.46128171\n",
            "  -0.34590964  1.22465189  1.58173009  0.22262967  0.87367369  0.43773862\n",
            "  -0.0884345  -0.07606261  0.740118    1.68962692]\n",
            " [ 1.34041825 -1.3084813  -0.49911676  0.97607715  1.23781395 -0.4197789\n",
            "  -0.28823411  1.07749024  1.38189635  0.46545652  1.17857371  0.54798174\n",
            "  -0.04380174 -0.24592349  0.75916657  1.79843902]\n",
            " [ 0.41043887 -1.46886418 -0.38928478  0.94639294  0.99642455 -0.55334178\n",
            "  -0.3374783   1.10791347  1.03563521  0.68030944  1.5015418   1.22872664\n",
            "   0.55094486 -0.33033162  0.67218221  2.14226447]\n",
            " [ 0.15598198 -0.72602009 -0.54364324  1.18008566  0.89088195 -0.64739337\n",
            "  -0.32207324  1.41414008  1.11268287  1.02664654  1.32247217  0.90539435\n",
            "  -0.43757328 -0.65604893 -0.21667743  1.08079515]\n",
            " [ 0.15598198 -0.76605394 -1.1080501  -0.01037353  0.37428219 -0.83345264\n",
            "  -0.57646044  0.47139858 -0.00623179  0.41326774  1.61159225  0.61582366\n",
            "  -0.76716028 -0.86278118 -0.88485378  0.48471307]\n",
            " [ 0.15598198 -0.69737495 -1.48153868 -0.33989929  0.09163451 -0.99526993\n",
            "  -0.81387186 -0.15698973 -0.37587936  0.23291847  1.33867162  1.38284579\n",
            "  -0.79672215 -0.7612232  -0.85373395  0.38016994]\n",
            " [ 0.15598198 -0.8842789  -1.81888162 -0.34329841 -0.04903721 -1.00659042\n",
            "  -1.03599444 -0.2856724  -0.57921295 -0.18688882  1.53031257  0.65059265\n",
            "  -1.01650523 -0.66843672 -1.32439533 -0.18984441]\n",
            " [ 0.15598198 -1.02814782 -0.48190502 -0.06225154  0.0366364  -0.93344491\n",
            "  -0.93736195 -0.43106699  0.03917438 -0.27827295  1.5779548   0.79132776\n",
            "  -0.61695688 -0.36324866 -1.17245118 -0.08335318]\n",
            " [ 0.15598198 -1.1443738  -0.36661675 -0.10164984  0.00521251 -0.90944498\n",
            "  -1.01193409 -0.63848186 -0.16259347 -0.78102306  0.33248225  0.79782266\n",
            "  -0.47268666 -0.77247867 -0.88179686 -0.41620185]\n",
            " [ 0.15598198 -1.00813361 -1.36095151 -0.32518557  0.12166346 -0.77765287\n",
            "  -0.88182001 -0.48954455 -0.13056591 -0.97174437 -0.36157557  1.1138281\n",
            "  -0.12155281 -0.81679208 -0.65221587 -0.30346778]\n",
            " [ 0.15598198 -0.77025178 -1.17437051 -0.52846597  0.75570226 -0.60529021\n",
            "  -0.61382811 -0.38990176 -0.23559694 -0.66719499 -0.15883774  1.00721936\n",
            "   0.0379841  -0.74315594 -0.59015522 -0.25740337]\n",
            " [ 0.05356308 -0.61479168 -0.99083752  0.0724259   1.225813   -0.4809739\n",
            "  -0.55203767 -0.12170429  0.12588765 -0.10511924  0.17740263  0.64700485\n",
            "  -0.01577373 -0.35151114 -0.56876817 -0.4702157 ]\n",
            " [-0.03910165 -0.28667989 -1.41042538  0.3037845   1.29766672 -0.5638301\n",
            "  -0.71388995 -0.18882621  0.49694175  0.05435136  0.45865832  0.52201294\n",
            "  -0.20306603 -0.61294916 -0.6993382  -0.53279276]\n",
            " [ 0.50181204  0.17481966 -1.49812905  0.30533843  0.84684326 -0.63052802\n",
            "  -0.79303236 -0.63768748  0.69380866 -0.07203096  0.96672631  0.10700925\n",
            "  -0.36016422 -0.9080618  -0.7848488  -0.55493044]\n",
            " [ 0.74123284 -0.20922582 -1.53935858 -0.3889183   0.25909035 -0.6383876\n",
            "  -0.91778677 -1.12694253  0.23002372 -0.40873022  0.68699776 -0.10156495\n",
            "   0.23606939 -1.23022925 -1.25808294 -0.89628532]\n",
            " [ 0.74123284 -0.18708006 -0.69473643 -0.62386757  0.07644547 -0.3124831\n",
            "  -0.79835066 -0.79232871 -0.1482804  -0.45173695  0.14821465  0.44465327\n",
            "   1.7894932  -0.90552609 -0.64082416 -0.0143678 ]\n",
            " [ 0.53766733 -0.69329134 -0.37121606 -0.52569745 -0.59813442 -0.07933116\n",
            "  -0.56588749 -0.48005405 -0.54858874  0.2975118   0.38586564 -0.20514301\n",
            "   1.91349688 -0.85341568 -0.47778965 -0.37596687]\n",
            " [ 0.19322521 -0.60218101 -0.98432046 -0.91880448 -1.37565329  0.29262917\n",
            "  -0.10612589 -0.19195031 -0.99985466  1.32675554  0.16140114 -0.75014734\n",
            "   0.52445368 -0.72021189 -0.75952003 -0.72608375]\n",
            " [-0.3707438  -0.70709784 -0.84246539 -0.82858755 -1.2349025   0.34575294\n",
            "   0.19340846 -0.0844584  -0.84601459  2.21957126  0.34370034 -0.9534246\n",
            "   0.1041761  -0.56564785 -0.71306315 -0.8429548 ]\n",
            " [-0.3707438  -0.43068344 -1.075896   -0.83183739 -1.36102501  0.27436546\n",
            "   0.02717304  0.37708548 -0.53528609  1.93403184  0.08651057 -0.67561199\n",
            "   0.7135351  -0.2147507  -0.24386874 -0.40384108]\n",
            " [-0.3707438   0.42238835  0.2489281  -0.66094544 -1.50973101  0.16723279\n",
            "  -0.12727979 -0.29290031 -0.603014    1.05757976  0.36337478 -0.16069299\n",
            "   0.37003459  0.01104869 -0.3090921  -0.626816  ]\n",
            " [-0.66336923 -0.51712473  1.5110514  -0.28268905 -1.06330709  0.21124318\n",
            "  -0.1160204  -0.7761889  -0.99720845  0.44862383  0.61208437  0.08743946\n",
            "   0.44305447  0.51698424 -0.12280708 -0.69940518]\n",
            " [-0.22824794 -0.52743372  0.37773223 -0.36732388 -1.12109909  0.55203771\n",
            "   0.12991866 -0.69455124 -0.79557355  0.2880787   0.42044079  0.38138331\n",
            "   0.81315025  0.62376777 -0.06090918 -0.77431933]\n",
            " [ 1.03385827 -0.01693465 -0.03188557 -0.94761564 -1.42934671  0.71659573\n",
            "   0.10153809 -0.90402234 -1.41090239 -0.09093961 -0.21079318  0.04282035\n",
            "   0.58466516 -0.17533068 -0.40015715 -0.89731915]\n",
            " [ 1.03385827  0.3400062   1.27492613 -1.78850023 -2.08951431  0.69422441\n",
            "  -0.84643109 -1.47188094 -1.95325512 -0.49742516 -2.11305685  0.11288018\n",
            "  -0.03696147 -1.00767919 -0.55295952 -0.34615349]\n",
            " [ 1.03385827 -0.40481102  1.46004834 -2.00585777 -2.27111874  1.08671235\n",
            "  -0.78447533 -1.77108699 -1.9578313  -0.52585902 -3.21228127  0.28248499\n",
            "  -1.16697406 -1.47924458 -0.77829826 -0.774242  ]\n",
            " [ 1.03385827 -0.55847218  0.80897226 -1.69143215 -2.02662955  1.2332075\n",
            "  -0.40201554 -1.91630547 -1.7626489  -0.33958662 -2.14953823  0.02518891\n",
            "  -1.46463981 -1.53647683 -0.8375027  -1.03014132]\n",
            " [ 1.18017099 -0.46556551  0.07540975 -0.83633611 -1.23089149  1.30066986\n",
            "   0.04851903 -1.42910812 -1.63735985 -0.08551452 -1.30454107 -0.33396324\n",
            "  -1.04367819 -1.02579144 -0.62414211 -1.07618873]\n",
            " [ 1.32648371 -0.022636    0.42471089  0.19224201 -0.88005583  1.78090749\n",
            "   0.94107119 -1.12858735 -1.24541666  0.23017881 -1.09155537 -0.2731551\n",
            "  -0.93412235 -0.39963066 -0.42515744 -1.02008342]\n",
            " [ 0.06958781  0.58615181  1.68169126  0.41853186 -0.77435464  2.32003443\n",
            "   2.98787851 -0.64195093 -0.63293058  0.77888439 -0.9463085  -0.28011527\n",
            "  -1.1047276   0.3962359  -0.30737648 -1.04820066]\n",
            " [-0.13664346  0.16562439  1.93135438  0.74566288 -0.61289474  2.12197667\n",
            "   2.59890181 -0.90248312 -0.55907233  0.91060685 -1.18640787  0.33988969\n",
            "  -0.38427618  0.91933496  0.59338581 -0.2466903 ]\n",
            " [-0.10472068  0.55248272  0.64683291  0.76049788 -0.48782406  2.02714098\n",
            "   2.11069098 -1.29989994 -0.56374731  1.08916731 -1.2078132   1.30892022\n",
            "   0.95778478  0.88401607  1.01262066  1.08778565]\n",
            " [ 0.09745689  1.95646662  0.58356933  1.35163592 -0.29583693  1.8681402\n",
            "   2.05208955 -0.72684916  0.03382065  1.3549306  -1.03156442  1.44253836\n",
            "   1.47547921  1.99702623  2.10361701  1.98562554]\n",
            " [ 0.33155724  1.25647806  1.34534813  2.52227553  0.40656612  1.85151901\n",
            "   2.3666615  -0.32136457  0.32248188  1.83408595 -0.5254888   1.72290626\n",
            "   2.19254511  2.63523007  2.52015733  1.93667587]\n",
            " [ 0.2256547   1.5515305   1.34534813  2.83438972  1.55372267  1.88819992\n",
            "   2.64022141 -0.32696965  0.12916041  2.28687109 -0.10161905  2.72440588\n",
            "   4.15977213  3.77882202  4.36882864  3.57155112]]\n"
          ],
          "name": "stdout"
        }
      ]
    },
    {
      "cell_type": "markdown",
      "metadata": {
        "id": "uRtCMM3m5R0t"
      },
      "source": [
        ""
      ]
    },
    {
      "cell_type": "code",
      "metadata": {
        "colab": {
          "base_uri": "https://localhost:8080/"
        },
        "id": "3z1ZBrhgB6Q0",
        "outputId": "1226c586-de0c-4703-f17d-890466d40e38"
      },
      "source": [
        "# ALGORITHM FIT\r\n",
        "\r\n",
        "pca = PCA(n_components=4)          # EMPEZAR CON UN n_components alto y luego ajustar segun threshold de % varianza requerida\r\n",
        "pca.fit(X2)\r\n",
        "print(pca.explained_variance_ratio_)      # % De varianza que explica cada nueva dimension\r\n",
        "print(sum(pca.explained_variance_ratio_))   # & De varianza explicada acumulada dado los N componentes"
      ],
      "execution_count": 7,
      "outputs": [
        {
          "output_type": "stream",
          "text": [
            "[0.33154417 0.26769747 0.17789018 0.06182927]\n",
            "0.8389610781079572\n"
          ],
          "name": "stdout"
        }
      ]
    },
    {
      "cell_type": "code",
      "metadata": {
        "colab": {
          "base_uri": "https://localhost:8080/"
        },
        "id": "g5UISWJtHOyb",
        "outputId": "26d87e7d-1cbc-43ed-d623-e95b5c453ded"
      },
      "source": [
        "# RELACION DIMENSIONES NUEVAS VS ORIGINALES\r\n",
        "\r\n",
        "print('componentes principales')\r\n",
        "print(dimensiones(X,pca.components_))"
      ],
      "execution_count": 8,
      "outputs": [
        {
          "output_type": "stream",
          "text": [
            "componentes principales\n",
            "   dimension  Harina_pescado    Azucar  ...  Aceite_soya   Fr_soya  Harina_soya\n",
            "0          0        0.006759  0.177808  ...     0.384339  0.411294     0.351012\n",
            "1          1        0.068999  0.100678  ...     0.000022  0.007923    -0.131949\n",
            "2          2       -0.440246  0.419638  ...     0.190052  0.117700    -0.150714\n",
            "3          3        0.322666 -0.212171  ...    -0.011191 -0.074448    -0.151103\n",
            "\n",
            "[4 rows x 17 columns]\n"
          ],
          "name": "stdout"
        }
      ]
    },
    {
      "cell_type": "code",
      "metadata": {
        "colab": {
          "base_uri": "https://localhost:8080/"
        },
        "id": "QV9u2GpqHO0r",
        "outputId": "97915f55-286e-45c3-95fa-8857e255bbd6"
      },
      "source": [
        "# NUEVO DATASET\r\n",
        "\r\n",
        "X = X.join(pd.DataFrame(data=pca.transform(X2)))\r\n",
        "print('nueva data (junta con la anterior)')\r\n",
        "print(X.head())"
      ],
      "execution_count": 9,
      "outputs": [
        {
          "output_type": "stream",
          "text": [
            "nueva data (junta con la anterior)\n",
            "   Harina_pescado      Azucar         Cafe  ...         1         2         3\n",
            "0          1490.0  648.780354  3686.159087  ... -0.585520  2.996812 -0.413886\n",
            "1          1352.5  673.468118  3651.461333  ... -0.511058  3.602587 -0.821470\n",
            "2          1300.0  660.322817  3514.446433  ... -0.560474  3.723729 -0.904558\n",
            "3          1300.0  632.991247  3439.266406  ... -0.401325  3.544135 -0.668265\n",
            "4          1300.0  626.371628  3331.491512  ... -0.445531  3.276617 -1.153433\n",
            "\n",
            "[5 rows x 20 columns]\n"
          ],
          "name": "stdout"
        }
      ]
    },
    {
      "cell_type": "code",
      "metadata": {
        "id": "LeysB-FYqguy",
        "colab": {
          "base_uri": "https://localhost:8080/",
          "height": 17
        },
        "outputId": "7aec6001-4ae1-439f-a755-0e2e5d0ab69d"
      },
      "source": [
        "# EXPORT RESULTS\r\n",
        "\r\n",
        "dimensiones(X,pca.components_).to_csv('dimensiones.csv') \r\n",
        "files.download('dimensiones.csv')\r\n",
        "\r\n",
        "X.to_csv('resultados.csv') \r\n",
        "files.download('resultados.csv')"
      ],
      "execution_count": 10,
      "outputs": [
        {
          "output_type": "display_data",
          "data": {
            "application/javascript": [
              "\n",
              "    async function download(id, filename, size) {\n",
              "      if (!google.colab.kernel.accessAllowed) {\n",
              "        return;\n",
              "      }\n",
              "      const div = document.createElement('div');\n",
              "      const label = document.createElement('label');\n",
              "      label.textContent = `Downloading \"${filename}\": `;\n",
              "      div.appendChild(label);\n",
              "      const progress = document.createElement('progress');\n",
              "      progress.max = size;\n",
              "      div.appendChild(progress);\n",
              "      document.body.appendChild(div);\n",
              "\n",
              "      const buffers = [];\n",
              "      let downloaded = 0;\n",
              "\n",
              "      const channel = await google.colab.kernel.comms.open(id);\n",
              "      // Send a message to notify the kernel that we're ready.\n",
              "      channel.send({})\n",
              "\n",
              "      for await (const message of channel.messages) {\n",
              "        // Send a message to notify the kernel that we're ready.\n",
              "        channel.send({})\n",
              "        if (message.buffers) {\n",
              "          for (const buffer of message.buffers) {\n",
              "            buffers.push(buffer);\n",
              "            downloaded += buffer.byteLength;\n",
              "            progress.value = downloaded;\n",
              "          }\n",
              "        }\n",
              "      }\n",
              "      const blob = new Blob(buffers, {type: 'application/binary'});\n",
              "      const a = document.createElement('a');\n",
              "      a.href = window.URL.createObjectURL(blob);\n",
              "      a.download = filename;\n",
              "      div.appendChild(a);\n",
              "      a.click();\n",
              "      div.remove();\n",
              "    }\n",
              "  "
            ],
            "text/plain": [
              "<IPython.core.display.Javascript object>"
            ]
          },
          "metadata": {
            "tags": []
          }
        },
        {
          "output_type": "display_data",
          "data": {
            "application/javascript": [
              "download(\"download_997f5c8b-5755-47ac-90b3-2738e17d7ec9\", \"dimensiones.csv\", 1424)"
            ],
            "text/plain": [
              "<IPython.core.display.Javascript object>"
            ]
          },
          "metadata": {
            "tags": []
          }
        },
        {
          "output_type": "display_data",
          "data": {
            "application/javascript": [
              "\n",
              "    async function download(id, filename, size) {\n",
              "      if (!google.colab.kernel.accessAllowed) {\n",
              "        return;\n",
              "      }\n",
              "      const div = document.createElement('div');\n",
              "      const label = document.createElement('label');\n",
              "      label.textContent = `Downloading \"${filename}\": `;\n",
              "      div.appendChild(label);\n",
              "      const progress = document.createElement('progress');\n",
              "      progress.max = size;\n",
              "      div.appendChild(progress);\n",
              "      document.body.appendChild(div);\n",
              "\n",
              "      const buffers = [];\n",
              "      let downloaded = 0;\n",
              "\n",
              "      const channel = await google.colab.kernel.comms.open(id);\n",
              "      // Send a message to notify the kernel that we're ready.\n",
              "      channel.send({})\n",
              "\n",
              "      for await (const message of channel.messages) {\n",
              "        // Send a message to notify the kernel that we're ready.\n",
              "        channel.send({})\n",
              "        if (message.buffers) {\n",
              "          for (const buffer of message.buffers) {\n",
              "            buffers.push(buffer);\n",
              "            downloaded += buffer.byteLength;\n",
              "            progress.value = downloaded;\n",
              "          }\n",
              "        }\n",
              "      }\n",
              "      const blob = new Blob(buffers, {type: 'application/binary'});\n",
              "      const a = document.createElement('a');\n",
              "      a.href = window.URL.createObjectURL(blob);\n",
              "      a.download = filename;\n",
              "      div.appendChild(a);\n",
              "      a.click();\n",
              "      div.remove();\n",
              "    }\n",
              "  "
            ],
            "text/plain": [
              "<IPython.core.display.Javascript object>"
            ]
          },
          "metadata": {
            "tags": []
          }
        },
        {
          "output_type": "display_data",
          "data": {
            "application/javascript": [
              "download(\"download_69bf928c-dd65-4a22-bf5d-f023c819f29b\", \"resultados.csv\", 14356)"
            ],
            "text/plain": [
              "<IPython.core.display.Javascript object>"
            ]
          },
          "metadata": {
            "tags": []
          }
        }
      ]
    },
    {
      "cell_type": "code",
      "metadata": {
        "id": "H5qQMwRPHFlb"
      },
      "source": [
        ""
      ],
      "execution_count": null,
      "outputs": []
    }
  ]
}