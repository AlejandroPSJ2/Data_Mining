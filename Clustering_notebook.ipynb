{
  "nbformat": 4,
  "nbformat_minor": 0,
  "metadata": {
    "colab": {
      "name": "Clustering_notebook.ipynb",
      "provenance": [],
      "collapsed_sections": [],
      "authorship_tag": "ABX9TyMp9ih5GPC+XM4tOgZVNLxu",
      "include_colab_link": true
    },
    "kernelspec": {
      "name": "python3",
      "display_name": "Python 3"
    }
  },
  "cells": [
    {
      "cell_type": "markdown",
      "metadata": {
        "id": "view-in-github",
        "colab_type": "text"
      },
      "source": [
        "<a href=\"https://colab.research.google.com/github/AlejandroPSJ2/Data_Mining/blob/main/Clustering_notebook.ipynb\" target=\"_parent\"><img src=\"https://colab.research.google.com/assets/colab-badge.svg\" alt=\"Open In Colab\"/></a>"
      ]
    },
    {
      "cell_type": "code",
      "metadata": {
        "id": "fRT4FgHCGEOC"
      },
      "source": [
        "#LIBRERIAS BASICAS\r\n",
        "\r\n",
        "import pandas as pd\r\n",
        "from sklearn.cluster import KMeans\r\n",
        "import matplotlib.pyplot as plt\r\n",
        "from sklearn.metrics import silhouette_score\r\n",
        "%matplotlib inline"
      ],
      "execution_count": 1,
      "outputs": []
    },
    {
      "cell_type": "code",
      "metadata": {
        "id": "jpe6m9g9P7Za"
      },
      "source": [
        "# FUNCIONES PARA CLUSTERING\r\n",
        "\r\n",
        "def centroides(a,b):\r\n",
        "    res = pd.DataFrame(data=b)\r\n",
        "    i=0\r\n",
        "    for x in a.columns:\r\n",
        "        res.rename(columns={i:x},inplace=True)\r\n",
        "        i = i+1\r\n",
        "    res.reset_index(inplace=True)\r\n",
        "    res.rename(columns={'index':'cluster'},inplace=True)\r\n",
        "    return res \r\n",
        "    \r\n",
        "def clusteres(a,b): \r\n",
        "    lab = pd.DataFrame(data=b)\r\n",
        "    ax = a.join(lab)\r\n",
        "    ax.rename(columns={0:'cluster'},inplace=True)  \r\n",
        "    return ax\r\n",
        "\r\n",
        "def elbow(X):\r\n",
        "    sum_of_squared_distances = []\r\n",
        "    K = range(1,15)\r\n",
        "    for k in K:\r\n",
        "        k_means = KMeans(n_clusters=k)\r\n",
        "        model = k_means.fit(X)\r\n",
        "        sum_of_squared_distances.append(k_means.inertia_)\r\n",
        "\r\n",
        "    plt.plot(K, sum_of_squared_distances, 'bx-')\r\n",
        "    plt.xlabel('k')\r\n",
        "    plt.ylabel('sum_of_squared_distances')\r\n",
        "    plt.title('elbow method for optimal k')\r\n",
        "    plt.show()\r\n",
        "    return sum_of_squared_distances\r\n",
        "\r\n",
        "def silhouette(X):\r\n",
        "    sil = []\r\n",
        "    K = range(2, 15)\r\n",
        "    for k in K:\r\n",
        "      kmeans = KMeans(n_clusters = k).fit(X)\r\n",
        "      labels = kmeans.labels_\r\n",
        "      sil.append(silhouette_score(X, labels, metric = 'euclidean'))\r\n",
        "\r\n",
        "    plt.plot(K, sil, 'bx-')\r\n",
        "    plt.xlabel('k')\r\n",
        "    plt.ylabel('silhouette score')\r\n",
        "    plt.title('silhouette method for optimal k')\r\n",
        "    plt.show()\r\n",
        "    return sil"
      ],
      "execution_count": 2,
      "outputs": []
    },
    {
      "cell_type": "code",
      "metadata": {
        "colab": {
          "base_uri": "https://localhost:8080/",
          "height": 204
        },
        "id": "zejVMMU2ajIu",
        "outputId": "ec967ccc-706c-4761-e949-d1977678c4c7"
      },
      "source": [
        "#DATA LOADING & PREVIEW\r\n",
        "\r\n",
        "url = 'https://raw.githubusercontent.com/AlejandroPSJ2/Data_Mining/main/clustering_data2_norm.csv'\r\n",
        "df = pd.read_csv(url,sep=';')\r\n",
        "df.head()"
      ],
      "execution_count": 3,
      "outputs": [
        {
          "output_type": "execute_result",
          "data": {
            "text/html": [
              "<div>\n",
              "<style scoped>\n",
              "    .dataframe tbody tr th:only-of-type {\n",
              "        vertical-align: middle;\n",
              "    }\n",
              "\n",
              "    .dataframe tbody tr th {\n",
              "        vertical-align: top;\n",
              "    }\n",
              "\n",
              "    .dataframe thead th {\n",
              "        text-align: right;\n",
              "    }\n",
              "</style>\n",
              "<table border=\"1\" class=\"dataframe\">\n",
              "  <thead>\n",
              "    <tr style=\"text-align: right;\">\n",
              "      <th></th>\n",
              "      <th>country</th>\n",
              "      <th>child_mort</th>\n",
              "      <th>exports</th>\n",
              "      <th>health</th>\n",
              "      <th>imports</th>\n",
              "      <th>income</th>\n",
              "      <th>inflation</th>\n",
              "      <th>life_expec</th>\n",
              "      <th>total_fer</th>\n",
              "      <th>gdpp</th>\n",
              "    </tr>\n",
              "  </thead>\n",
              "  <tbody>\n",
              "    <tr>\n",
              "      <th>0</th>\n",
              "      <td>Afghanistan</td>\n",
              "      <td>0.426485</td>\n",
              "      <td>0.049482</td>\n",
              "      <td>0.358608</td>\n",
              "      <td>0.257765</td>\n",
              "      <td>0.008047</td>\n",
              "      <td>0.126144</td>\n",
              "      <td>0.475345</td>\n",
              "      <td>0.736593</td>\n",
              "      <td>0.003073</td>\n",
              "    </tr>\n",
              "    <tr>\n",
              "      <th>1</th>\n",
              "      <td>Albania</td>\n",
              "      <td>0.068160</td>\n",
              "      <td>0.139531</td>\n",
              "      <td>0.294593</td>\n",
              "      <td>0.279037</td>\n",
              "      <td>0.074933</td>\n",
              "      <td>0.080399</td>\n",
              "      <td>0.871795</td>\n",
              "      <td>0.078864</td>\n",
              "      <td>0.036833</td>\n",
              "    </tr>\n",
              "    <tr>\n",
              "      <th>2</th>\n",
              "      <td>Algeria</td>\n",
              "      <td>0.120253</td>\n",
              "      <td>0.191559</td>\n",
              "      <td>0.146675</td>\n",
              "      <td>0.180149</td>\n",
              "      <td>0.098809</td>\n",
              "      <td>0.187691</td>\n",
              "      <td>0.875740</td>\n",
              "      <td>0.274448</td>\n",
              "      <td>0.040365</td>\n",
              "    </tr>\n",
              "    <tr>\n",
              "      <th>3</th>\n",
              "      <td>Angola</td>\n",
              "      <td>0.566699</td>\n",
              "      <td>0.311125</td>\n",
              "      <td>0.064636</td>\n",
              "      <td>0.246266</td>\n",
              "      <td>0.042535</td>\n",
              "      <td>0.245911</td>\n",
              "      <td>0.552268</td>\n",
              "      <td>0.790221</td>\n",
              "      <td>0.031488</td>\n",
              "    </tr>\n",
              "    <tr>\n",
              "      <th>4</th>\n",
              "      <td>Antigua and Barbuda</td>\n",
              "      <td>0.037488</td>\n",
              "      <td>0.227079</td>\n",
              "      <td>0.262275</td>\n",
              "      <td>0.338255</td>\n",
              "      <td>0.148652</td>\n",
              "      <td>0.052213</td>\n",
              "      <td>0.881657</td>\n",
              "      <td>0.154574</td>\n",
              "      <td>0.114242</td>\n",
              "    </tr>\n",
              "  </tbody>\n",
              "</table>\n",
              "</div>"
            ],
            "text/plain": [
              "               country  child_mort   exports  ...  life_expec  total_fer      gdpp\n",
              "0          Afghanistan    0.426485  0.049482  ...    0.475345   0.736593  0.003073\n",
              "1              Albania    0.068160  0.139531  ...    0.871795   0.078864  0.036833\n",
              "2              Algeria    0.120253  0.191559  ...    0.875740   0.274448  0.040365\n",
              "3               Angola    0.566699  0.311125  ...    0.552268   0.790221  0.031488\n",
              "4  Antigua and Barbuda    0.037488  0.227079  ...    0.881657   0.154574  0.114242\n",
              "\n",
              "[5 rows x 10 columns]"
            ]
          },
          "metadata": {
            "tags": []
          },
          "execution_count": 3
        }
      ]
    },
    {
      "cell_type": "code",
      "metadata": {
        "id": "M4trkomhem8L"
      },
      "source": [
        "#DATA PREPARATION (VERY IMPORTANT TO DIFFERENTIATE \"X\" AND \"DF\")\r\n",
        "\r\n",
        "X = df.drop(columns='country')"
      ],
      "execution_count": 5,
      "outputs": []
    },
    {
      "cell_type": "code",
      "metadata": {
        "colab": {
          "base_uri": "https://localhost:8080/",
          "height": 627
        },
        "id": "7imvLc4ZZVJJ",
        "outputId": "865aba44-85d6-42e2-da52-070c17bc683c"
      },
      "source": [
        "# OPTIMAL NUMBER \"K\" OF CLUSTERS\r\n",
        "\r\n",
        "print(elbow(X))\r\n",
        "print(silhouette(X))"
      ],
      "execution_count": 6,
      "outputs": [
        {
          "output_type": "display_data",
          "data": {
            "image/png": "[encoded data removed]",
            "text/plain": [
              "<Figure size 432x288 with 1 Axes>"
            ]
          },
          "metadata": {
            "tags": [],
            "needs_background": "light"
          }
        },
        {
          "output_type": "stream",
          "text": [
            "[42.798718776352864, 25.943231842930718, 19.34562204131999, 16.784452806059292, 14.977686908169813, 13.600214865692612, 12.42686474770518, 11.58140686541396, 10.846304882169163, 9.996856719868962, 9.506661343462579, 9.174137254645425, 8.648429689740501, 8.0769344674029]\n"
          ],
          "name": "stdout"
        },
        {
          "output_type": "display_data",
          "data": {
            "image/png": "[encoded data removed]",
            "text/plain": [
              "<Figure size 432x288 with 1 Axes>"
            ]
          },
          "metadata": {
            "tags": [],
            "needs_background": "light"
          }
        },
        {
          "output_type": "stream",
          "text": [
            "[0.37671430586803784, 0.3426547409636894, 0.34967581488826804, 0.24113155323175775, 0.26251398567612705, 0.2647628951568657, 0.23435358449749966, 0.2292402574899043, 0.22319586474653413, 0.2132253610809944, 0.20078427490884387, 0.1905151368727645, 0.19635679780195106]\n"
          ],
          "name": "stdout"
        }
      ]
    },
    {
      "cell_type": "code",
      "metadata": {
        "id": "VBR-0c_DZVMS",
        "colab": {
          "base_uri": "https://localhost:8080/",
          "height": 332
        },
        "outputId": "4b0ee108-d8d3-47c9-c841-8fd07cbdd216"
      },
      "source": [
        ""
      ],
      "execution_count": 9,
      "outputs": [
        {
          "output_type": "display_data",
          "data": {
            "image/png": "[encoded data removed]",
            "text/plain": [
              "<Figure size 432x288 with 1 Axes>"
            ]
          },
          "metadata": {
            "tags": [],
            "needs_background": "light"
          }
        },
        {
          "output_type": "stream",
          "text": [
            "[0.37671430586803784, 0.3392590989600407, 0.34967581488826804, 0.24057652922959824, 0.26185758120581853, 0.25203987762431695, 0.2187039212634428, 0.21499619106076556, 0.1960481453110853, 0.20664908061910045, 0.20376208636152962, 0.1941790115446552, 0.1871242821869047]\n"
          ],
          "name": "stdout"
        }
      ]
    },
    {
      "cell_type": "code",
      "metadata": {
        "id": "oxsYkM95GJQP"
      },
      "source": [
        "# ALGORITHM FIT\r\n",
        "\r\n",
        "kmeans = KMeans(n_clusters=4, random_state=44).fit(X)"
      ],
      "execution_count": 7,
      "outputs": []
    },
    {
      "cell_type": "code",
      "metadata": {
        "colab": {
          "base_uri": "https://localhost:8080/"
        },
        "id": "48VQswWWBeVB",
        "outputId": "e042dbbd-8c04-43a7-ae4c-80c59dd92ea7"
      },
      "source": [
        "# CLUSTER CENTROIDS\r\n",
        "\r\n",
        "print('Centroides optimos de 4 clusteres')\r\n",
        "print(centroides(X,kmeans.cluster_centers_))"
      ],
      "execution_count": 8,
      "outputs": [
        {
          "output_type": "stream",
          "text": [
            "Centroides optimos de 4 clusteres\n",
            "   cluster  child_mort   exports  ...  life_expec  total_fer      gdpp\n",
            "0        0    0.095659  0.203542  ...    0.799134   0.178759  0.063018\n",
            "1        1    0.011213  0.231969  ...    0.950372   0.100336  0.404158\n",
            "2        2    0.441503  0.145970  ...    0.538333   0.621485  0.013982\n",
            "3        3    0.007465  0.879935  ...    0.973044   0.036278  0.547258\n",
            "\n",
            "[4 rows x 10 columns]\n"
          ],
          "name": "stdout"
        }
      ]
    },
    {
      "cell_type": "code",
      "metadata": {
        "colab": {
          "base_uri": "https://localhost:8080/"
        },
        "id": "mrylgtFsN0NT",
        "outputId": "11b468e9-8397-44df-87f2-8a9c0f2fe0ea"
      },
      "source": [
        "# CLUSTER RESULTS\r\n",
        "\r\n",
        "print('Asignacion de clusteres segun cada observacion')\r\n",
        "print(clusteres(df,kmeans.labels_).head())"
      ],
      "execution_count": 9,
      "outputs": [
        {
          "output_type": "stream",
          "text": [
            "Asignacion de clusteres segun cada observacion\n",
            "               country  child_mort   exports  ...  total_fer      gdpp  cluster\n",
            "0          Afghanistan    0.426485  0.049482  ...   0.736593  0.003073        2\n",
            "1              Albania    0.068160  0.139531  ...   0.078864  0.036833        0\n",
            "2              Algeria    0.120253  0.191559  ...   0.274448  0.040365        0\n",
            "3               Angola    0.566699  0.311125  ...   0.790221  0.031488        2\n",
            "4  Antigua and Barbuda    0.037488  0.227079  ...   0.154574  0.114242        0\n",
            "\n",
            "[5 rows x 11 columns]\n"
          ],
          "name": "stdout"
        }
      ]
    },
    {
      "cell_type": "code",
      "metadata": {
        "id": "Vh5cXlPfbOLa"
      },
      "source": [
        "clusteres(df,kmeans.labels_).to_csv('results.csv')"
      ],
      "execution_count": 10,
      "outputs": []
    }
  ]
}