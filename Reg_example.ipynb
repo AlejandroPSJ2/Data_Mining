{
  "nbformat": 4,
  "nbformat_minor": 0,
  "metadata": {
    "colab": {
      "name": "Reg_example.ipynb",
      "provenance": [],
      "authorship_tag": "ABX9TyO9pcMIBJz1xRSyhsPcf21p",
      "include_colab_link": true
    },
    "kernelspec": {
      "name": "python3",
      "display_name": "Python 3"
    }
  },
  "cells": [
    {
      "cell_type": "markdown",
      "metadata": {
        "id": "view-in-github",
        "colab_type": "text"
      },
      "source": [
        "<a href=\"https://colab.research.google.com/github/AlejandroPSJ2/Data_Mining/blob/main/Reg_example.ipynb\" target=\"_parent\"><img src=\"https://colab.research.google.com/assets/colab-badge.svg\" alt=\"Open In Colab\"/></a>"
      ]
    },
    {
      "cell_type": "code",
      "metadata": {
        "id": "hTNw81P_0TkF"
      },
      "source": [
        "import pandas as pd\r\n",
        "import statsmodels.api as sm\r\n",
        "url = 'https://raw.githubusercontent.com/AlejandroPSJ2/Data_Mining/main/reg_example.csv'\r\n",
        "df = pd.read_csv(url,sep=';')"
      ],
      "execution_count": 25,
      "outputs": []
    },
    {
      "cell_type": "code",
      "metadata": {
        "id": "rSUZHI880bji",
        "colab": {
          "base_uri": "https://localhost:8080/",
          "height": 204
        },
        "outputId": "143dc117-eee5-4b6c-b5be-3901aec6c8a9"
      },
      "source": [
        "df.head()"
      ],
      "execution_count": 26,
      "outputs": [
        {
          "output_type": "execute_result",
          "data": {
            "text/html": [
              "<div>\n",
              "<style scoped>\n",
              "    .dataframe tbody tr th:only-of-type {\n",
              "        vertical-align: middle;\n",
              "    }\n",
              "\n",
              "    .dataframe tbody tr th {\n",
              "        vertical-align: top;\n",
              "    }\n",
              "\n",
              "    .dataframe thead th {\n",
              "        text-align: right;\n",
              "    }\n",
              "</style>\n",
              "<table border=\"1\" class=\"dataframe\">\n",
              "  <thead>\n",
              "    <tr style=\"text-align: right;\">\n",
              "      <th></th>\n",
              "      <th>Week</th>\n",
              "      <th>PRICE 12PK</th>\n",
              "      <th>PRICE 18PK</th>\n",
              "      <th>PRICE 30PK</th>\n",
              "      <th>CASES 12PK</th>\n",
              "      <th>CASES 18PK</th>\n",
              "      <th>CASES 30PK</th>\n",
              "    </tr>\n",
              "  </thead>\n",
              "  <tbody>\n",
              "    <tr>\n",
              "      <th>0</th>\n",
              "      <td>1</td>\n",
              "      <td>19.98</td>\n",
              "      <td>14.10</td>\n",
              "      <td>15.19</td>\n",
              "      <td>223.5</td>\n",
              "      <td>439</td>\n",
              "      <td>55.00</td>\n",
              "    </tr>\n",
              "    <tr>\n",
              "      <th>1</th>\n",
              "      <td>2</td>\n",
              "      <td>19.98</td>\n",
              "      <td>18.65</td>\n",
              "      <td>15.19</td>\n",
              "      <td>215.0</td>\n",
              "      <td>98</td>\n",
              "      <td>66.75</td>\n",
              "    </tr>\n",
              "    <tr>\n",
              "      <th>2</th>\n",
              "      <td>3</td>\n",
              "      <td>19.98</td>\n",
              "      <td>18.65</td>\n",
              "      <td>13.87</td>\n",
              "      <td>227.5</td>\n",
              "      <td>70</td>\n",
              "      <td>242.00</td>\n",
              "    </tr>\n",
              "    <tr>\n",
              "      <th>3</th>\n",
              "      <td>4</td>\n",
              "      <td>19.98</td>\n",
              "      <td>18.65</td>\n",
              "      <td>12.83</td>\n",
              "      <td>244.5</td>\n",
              "      <td>52</td>\n",
              "      <td>488.50</td>\n",
              "    </tr>\n",
              "    <tr>\n",
              "      <th>4</th>\n",
              "      <td>5</td>\n",
              "      <td>19.98</td>\n",
              "      <td>18.65</td>\n",
              "      <td>13.16</td>\n",
              "      <td>313.5</td>\n",
              "      <td>64</td>\n",
              "      <td>308.75</td>\n",
              "    </tr>\n",
              "  </tbody>\n",
              "</table>\n",
              "</div>"
            ],
            "text/plain": [
              "   Week  PRICE 12PK  PRICE 18PK  PRICE 30PK  CASES 12PK  CASES 18PK  CASES 30PK\n",
              "0     1       19.98       14.10       15.19       223.5         439       55.00\n",
              "1     2       19.98       18.65       15.19       215.0          98       66.75\n",
              "2     3       19.98       18.65       13.87       227.5          70      242.00\n",
              "3     4       19.98       18.65       12.83       244.5          52      488.50\n",
              "4     5       19.98       18.65       13.16       313.5          64      308.75"
            ]
          },
          "metadata": {
            "tags": []
          },
          "execution_count": 26
        }
      ]
    },
    {
      "cell_type": "code",
      "metadata": {
        "id": "3aZ05t-wISAp"
      },
      "source": [
        "Y = df['CASES 30PK']\r\n",
        "X = df['PRICE 30PK']\r\n",
        "X = sm.add_constant(X)"
      ],
      "execution_count": 27,
      "outputs": []
    },
    {
      "cell_type": "code",
      "metadata": {
        "id": "ah5HiJNcF5Py"
      },
      "source": [
        "mod = sm.OLS(Y,X)\r\n",
        "res = mod.fit()"
      ],
      "execution_count": 28,
      "outputs": []
    },
    {
      "cell_type": "code",
      "metadata": {
        "colab": {
          "base_uri": "https://localhost:8080/"
        },
        "id": "xeU9lnfiGpHA",
        "outputId": "975add72-cc9b-4f0c-813e-5a5d1cb10c87"
      },
      "source": [
        "print(res.summary())"
      ],
      "execution_count": 32,
      "outputs": [
        {
          "output_type": "stream",
          "text": [
            "                            OLS Regression Results                            \n",
            "==============================================================================\n",
            "Dep. Variable:             CASES 30PK   R-squared:                       0.651\n",
            "Model:                            OLS   Adj. R-squared:                  0.644\n",
            "Method:                 Least Squares   F-statistic:                     93.22\n",
            "Date:                Tue, 19 Jan 2021   Prob (F-statistic):           5.17e-13\n",
            "Time:                        05:33:15   Log-Likelihood:                -294.71\n",
            "No. Observations:                  52   AIC:                             593.4\n",
            "Df Residuals:                      50   BIC:                             597.3\n",
            "Df Model:                           1                                         \n",
            "Covariance Type:            nonrobust                                         \n",
            "==============================================================================\n",
            "                 coef    std err          t      P>|t|      [0.025      0.975]\n",
            "------------------------------------------------------------------------------\n",
            "const       1887.2558    178.648     10.564      0.000    1528.431    2246.081\n",
            "PRICE 30PK  -119.7708     12.405     -9.655      0.000    -144.687     -94.855\n",
            "==============================================================================\n",
            "Omnibus:                        9.964   Durbin-Watson:                   1.810\n",
            "Prob(Omnibus):                  0.007   Jarque-Bera (JB):               15.078\n",
            "Skew:                           0.548   Prob(JB):                     0.000532\n",
            "Kurtosis:                       5.400   Cond. No.                         261.\n",
            "==============================================================================\n",
            "\n",
            "Warnings:\n",
            "[1] Standard Errors assume that the covariance matrix of the errors is correctly specified.\n"
          ],
          "name": "stdout"
        }
      ]
    }
  ]
}